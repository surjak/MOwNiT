{
 "cells": [
  {
   "cell_type": "markdown",
   "metadata": {},
   "source": [
    "# Metody Obliczeniowe w Nauce i Technice\n",
    "## Laboratorium 9\n",
    "### Faktoryzacja QR\n",
    "#### Mateusz Surjak"
   ]
  },
  {
   "cell_type": "markdown",
   "metadata": {},
   "source": [
    "Rozkład QR – rozkład macierzy ${\\displaystyle A}$ do postaci iloczynu dwóch macierzy ${\\displaystyle A=QR,}$ gdzie ${\\displaystyle Q}$ jest macierzą ortogonalną, czyli ${\\displaystyle (Q^{T}Q=I)}$ i ${\\displaystyle R}$ jest macierzą trójkątną górną. Rozkłąd QR często stosuje się w realizacji metody najmniejszych kwadratów oraz rozwiązywaniu układów równań liniowych."
   ]
  },
  {
   "cell_type": "markdown",
   "metadata": {},
   "source": [
    "## Zadanie 1 Faktoryzacja QR metodą Grama-Schmidta\n"
   ]
  },
  {
   "cell_type": "code",
   "execution_count": 1,
   "metadata": {},
   "outputs": [],
   "source": [
    "import matplotlib.pyplot as plt\n",
    "import numpy as np\n",
    "import time"
   ]
  },
  {
   "cell_type": "markdown",
   "metadata": {},
   "source": [
    "Zaimplementowałem funkcje dokonującą faktoryzacji QR metodą Grama-Schmidta. "
   ]
  },
  {
   "cell_type": "code",
   "execution_count": 2,
   "metadata": {},
   "outputs": [],
   "source": [
    "def graham_schmidt_qr(A):\n",
    "    N = len(A)\n",
    "    Q = np.zeros((N,N))\n",
    "    R = np.zeros((N,N))\n",
    "    #normalizujemy pierwsza columnę i dopisujemy do macierzy Q\n",
    "    Q[:, 0] = A[:, 0] / np.linalg.norm(A[:, 0])\n",
    "    \n",
    "    #Obliczanie Q\n",
    "    for k in range(1,N):\n",
    "            \n",
    "        # wpisujemy k-tą kolumnę macierzy A do macierzy wynikowej\n",
    "        Q[:, k] = A[:, k]\n",
    "        \n",
    "        # obliczamy k-tą kolumnę\n",
    "        for i in range(k):\n",
    "            Q[:, k] -= np.dot(Q[:, i], A[:, k]) * Q[:, i]\n",
    "           \n",
    "        #normalizujemy k-tą kolumnę macierzy wynikowej Q\n",
    "        Q[:, k] = Q[:, k] / np.linalg.norm(Q[:, k])\n",
    "        \n",
    "    # obliczamy R    \n",
    "    for i in range(N):\n",
    "        for j in range(i,N):\n",
    "            R[i, j] = np.dot(Q[:, i], A[:, j])\n",
    "\n",
    "    return Q, R"
   ]
  },
  {
   "cell_type": "markdown",
   "metadata": {},
   "source": [
    "Następnie napisałem funkcje testującą poprawność implementacji powyższej funkcji, dodałem również mierzenie czasu wykonania mojej funkcji a funkcji bibliotecznej."
   ]
  },
  {
   "cell_type": "code",
   "execution_count": 3,
   "metadata": {},
   "outputs": [],
   "source": [
    "def test_graham_schmidt():\n",
    "    sizes = [5,50,100,300,500,1000]\n",
    "    for N in sizes:\n",
    "        # generuje losową macierz\n",
    "        A = np.random.rand(N, N)\n",
    "        \n",
    "        start = time.time()\n",
    "        Q, R = graham_schmidt_qr(A)\n",
    "        end = time.time()\n",
    "\n",
    "        start_lib = time.time()\n",
    "        Q_lib, R_lib = np.linalg.qr(A, mode='complete')\n",
    "        end_lib = time.time()\n",
    "        \n",
    "        print(f\"\"\"\n",
    "        Dla N = {N}\n",
    "        Własna implementacja: {round((end-start)*1000,2)} ms\n",
    "        Funkcja biblioteczna: {round((end_lib - start_lib)*1000,2)} ms\n",
    "        Poprawność implementacji: {np.allclose(Q@R,Q_lib@R_lib)}\n",
    "        \"\"\")"
   ]
  },
  {
   "cell_type": "code",
   "execution_count": 4,
   "metadata": {},
   "outputs": [
    {
     "name": "stdout",
     "output_type": "stream",
     "text": [
      "\n",
      "        Dla N = 5\n",
      "        Własna implementacja: 1.0 ms\n",
      "        Funkcja biblioteczna: 7.0 ms\n",
      "        Poprawność implementacji: True\n",
      "        \n",
      "\n",
      "        Dla N = 50\n",
      "        Własna implementacja: 8.99 ms\n",
      "        Funkcja biblioteczna: 2.0 ms\n",
      "        Poprawność implementacji: True\n",
      "        \n",
      "\n",
      "        Dla N = 100\n",
      "        Własna implementacja: 34.04 ms\n",
      "        Funkcja biblioteczna: 1.97 ms\n",
      "        Poprawność implementacji: True\n",
      "        \n",
      "\n",
      "        Dla N = 300\n",
      "        Własna implementacja: 418.03 ms\n",
      "        Funkcja biblioteczna: 2.97 ms\n",
      "        Poprawność implementacji: True\n",
      "        \n",
      "\n",
      "        Dla N = 500\n",
      "        Własna implementacja: 1145.0 ms\n",
      "        Funkcja biblioteczna: 12.0 ms\n",
      "        Poprawność implementacji: True\n",
      "        \n",
      "\n",
      "        Dla N = 1000\n",
      "        Własna implementacja: 20762.07 ms\n",
      "        Funkcja biblioteczna: 61.97 ms\n",
      "        Poprawność implementacji: True\n",
      "        \n"
     ]
    }
   ],
   "source": [
    "test_graham_schmidt()"
   ]
  },
  {
   "cell_type": "markdown",
   "metadata": {},
   "source": [
    "Wyniki zwracane przez moją implementacje są zgodne z wynikami bibliotecznymi ale czas wykonania jest o wiele lepszy po stronie funckcji z biblioteki numpy."
   ]
  },
  {
   "cell_type": "markdown",
   "metadata": {},
   "source": [
    "Następnie napisałem funkcje generującą 50 macierzy 8x8 o różnych wskaźnikach uwarunkowania i wyliczającą faktoryzacje QR dla tych macierzy oraz sprawdzającą na ile bardzo macierz Q jest zaburzona poprzez błąd reprezentacji."
   ]
  },
  {
   "cell_type": "code",
   "execution_count": 5,
   "metadata": {},
   "outputs": [],
   "source": [
    "def generate_matrices_and_calculate_cond():\n",
    "    conds = []\n",
    "    vals = []\n",
    "    i = 0\n",
    "    while i < 50:\n",
    "        A = np.random.rand(8, 8)\n",
    "        U, S, Vt = np.linalg.svd(A)\n",
    "        cond = S[0] / S[-1]\n",
    "        if cond not in conds:\n",
    "            i += 1\n",
    "            Q, R = graham_schmidt_qr(A)\n",
    "            val = np.linalg.norm(np.identity(8) - Q.transpose() @ Q)\n",
    "            conds.append(cond)\n",
    "            vals.append(val)\n",
    "    plt.xlabel('Cond')\n",
    "    plt.ylabel('Error')\n",
    "    plt.plot(conds, vals, 'o')\n",
    "    plt.show()"
   ]
  },
  {
   "cell_type": "code",
   "execution_count": 6,
   "metadata": {},
   "outputs": [
    {
     "data": {
      "image/png": "[encoded data removed]",
      "text/plain": [
       "<Figure size 432x288 with 1 Axes>"
      ]
     },
     "metadata": {
      "needs_background": "light"
     },
     "output_type": "display_data"
    }
   ],
   "source": [
    "generate_matrices_and_calculate_cond()"
   ]
  },
  {
   "cell_type": "markdown",
   "metadata": {},
   "source": [
    "Wraz ze wzrostem wskaźnika uwarunkowania macierzy (cond), macierz Q przestaje być ortogonalna i przestaje obowiązywać warunek ortogonalności macierzy $I = Q^{T}Q$. Powodem takiego zjawiska jest to, iż algorytm Grama-Schmidta dla macierzy o dużym wskaźniku uwarunkowania staje się numerycznie niestabilny, błąd reprezentacji numerycznej danych wejsciowych ma coraz większy wpływ na dane wyjściowe, które przestają być całkowicie zgodne z prawdą."
   ]
  },
  {
   "cell_type": "markdown",
   "metadata": {},
   "source": [
    "## Zadanie 2 Rozwiązywanie układów równań metodą QR"
   ]
  },
  {
   "cell_type": "markdown",
   "metadata": {},
   "source": [
    "Napisalem funkcje rozwiązującą układ równań liniowych, funkcja ta korzysta z *back substitution* ponieważ macierz R jest macierzą trójkątną górną."
   ]
  },
  {
   "cell_type": "code",
   "execution_count": 7,
   "metadata": {},
   "outputs": [],
   "source": [
    "x = np.array([x for x in range(-5, 6)])\n",
    "y = np.array([2, 7, 9, 12, 13, 14, 14, 13, 10, 8, 4])"
   ]
  },
  {
   "cell_type": "code",
   "execution_count": 9,
   "metadata": {},
   "outputs": [],
   "source": [
    "def solve_qr():\n",
    "    A = np.vander(x,increasing=True)\n",
    "    # biorę tylko 3 kolumny bo funkcja w zadaniu jest drugiego stopnia\n",
    "    A = A[:,:3]\n",
    "    Q, R = np.linalg.qr(A)\n",
    "\n",
    "    return np.linalg.solve(R, Q.T @ y)"
   ]
  },
  {
   "cell_type": "markdown",
   "metadata": {},
   "source": [
    "Następnie dla otrzymanych współczynników wygenerowałem wykres funkcji aproksymującej podane punkty."
   ]
  },
  {
   "cell_type": "code",
   "execution_count": 10,
   "metadata": {},
   "outputs": [
    {
     "data": {
      "image/png": "[encoded data removed]",
      "text/plain": [
       "<Figure size 432x288 with 1 Axes>"
      ]
     },
     "metadata": {
      "needs_background": "light"
     },
     "output_type": "display_data"
    }
   ],
   "source": [
    "a = solve_qr()\n",
    "func = lambda x: a[0] + a[1]*x+a[2]*x**2    \n",
    "x_range = np.linspace(-7, 7, 200)\n",
    "\n",
    "fig, ax = plt.subplots(1, 1)\n",
    "ax.set_xlabel(\"x\")\n",
    "ax.set_ylabel(\"y\")\n",
    "ax.scatter(x, y, c=\"#552F40\")\n",
    "ax.plot(x_range, func(x_range))\n",
    "plt.show()"
   ]
  },
  {
   "cell_type": "markdown",
   "metadata": {},
   "source": [
    "### Wnioski\n",
    "\n",
    "- Metoda QR pozwala w szybki sposób rozwiązać układ równań liniowych ponieważ można zastosować *back substitution*\n",
    "- Niestety dla macierzy o dużym wskaźniku uwarunkowania algorytm staje się niestabilny numerycznie i zaczyna zwracać niepoprawne dane."
   ]
  }
 ],
 "metadata": {
  "kernelspec": {
   "display_name": "Python 3",
   "language": "python",
   "name": "python3"
  },
  "language_info": {
   "codemirror_mode": {
    "name": "ipython",
    "version": 3
   },
   "file_extension": ".py",
   "mimetype": "text/x-python",
   "name": "python",
   "nbconvert_exporter": "python",
   "pygments_lexer": "ipython3",
   "version": "3.7.4"
  }
 },
 "nbformat": 4,
 "nbformat_minor": 2
}
