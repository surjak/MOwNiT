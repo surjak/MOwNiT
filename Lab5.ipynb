{
 "cells": [
  {
   "cell_type": "markdown",
   "metadata": {},
   "source": [
    "# Metody Obliczeniowe w Nauce i Technice\n",
    "## Laboratorium 5\n",
    "### Równania nieliniowe\n",
    "#### Mateusz Surjak"
   ]
  },
  {
   "cell_type": "code",
   "execution_count": 1,
   "metadata": {},
   "outputs": [],
   "source": [
    "from scipy.misc import derivative\n",
    "from random import uniform\n",
    "from mpmath import mp\n",
    "import numpy as np\n",
    "from mpmath import mpf"
   ]
  },
  {
   "cell_type": "markdown",
   "metadata": {},
   "source": [
    "#### Zdefiniowałem funkcje podane w treści zadania"
   ]
  },
  {
   "cell_type": "code",
   "execution_count": 2,
   "metadata": {},
   "outputs": [],
   "source": [
    "def f_1(x): return mp.cos(x)*mp.cosh(x)-1\n",
    "\n",
    "def f_2(x): return (1/x)-mp.tan(x)\n",
    "\n",
    "def f_3(x): return 2**(-x) + mp.e**(x) + 2*mp.cos(x)-6"
   ]
  },
  {
   "cell_type": "markdown",
   "metadata": {},
   "source": [
    "## Zadanie 1 - Metoda bisekcji\n",
    "Napisz funkcję realizującą metodę bisekcji dla danej funkcji f w oparciu o arytmetykę o\n",
    "zmiennej precyzji. Funkcja przyjmuje następujące argumenty:\n",
    "- Minimalną precyzję obliczeń (liczba cyfr znaczących)\n",
    "- Krańce przedziału\n",
    "- Błąd bezwzględny obliczeń\n",
    "<br>\n",
    "\n",
    "Funkcja ma zwracać wyznaczone miejsce zerowe, wyliczoną wartość w miejscu zerowym\n",
    "oraz liczbę iteracji potrzebną do uzyskania określonej dokładności. Przetestuj działanie\n",
    "metody dla funkcji podanych na początku instrukcji."
   ]
  },
  {
   "cell_type": "markdown",
   "metadata": {},
   "source": [
    "**Metoda bisekcji** - pozwala stosunkowo szybko znaleźć pierwiastek dowolnej funkcji w zadanym przedziale poszukiwań [a,b]. Aby można było zastosować metodę bisekcji, funkcja musi spełniać kilka warunków początkowych:\n",
    "- **Funkcja musi być określona w przedziale [a,b]**\n",
    "<br>\n",
    "Określoność funkcji oznacza, że dla każdego argumentu x z przedziału [a,b] istnieje wartość funkcji. Warunek ten jest konieczny, ponieważ algorytm bisekcji wybiera punkty w przedziale [a,b] i oblicza dla nich wartość funkcji. Jeśli trafi na punkt nieokreśloności, w którym nie można policzyć wartości funkcji, to cała metoda załamie się.\n",
    "- **Funkcja musi być ciągła w przedziale [a,b]**\n",
    "<br>\n",
    "Ciągłość funkcji gwarantuje, iż jej wartości nie wykonują nagłych skoków i dla dowolnych dwóch wartości funkcji w tym przedziale znajdziemy wszystkie wartości pośrednie.\n",
    "- **Na krańcach przedziału [a,b] funkcja musi mieć różne znaki**\n",
    "<br>\n",
    "Ten warunek wraz z poprzednim gwarantuje, że w przedziale [a,b] istnieje taki argument $x_0$, dla którego funkcja ma wartość 0, która to wartość jest wartością pośrednią pomiędzy wartościami funkcji na krańcach przedziału [a,b]\n",
    "\n",
    "Rozwiązanie znajdowane jest za pomocą kolejnych przybliżeń. Z tego powodu należy określić dokładność, z którą chcemy otrzymać pierwiastek funkcji."
   ]
  },
  {
   "cell_type": "code",
   "execution_count": 3,
   "metadata": {},
   "outputs": [],
   "source": [
    "def bisection(func, min_prec, a, b, err):\n",
    "    # ustawienie precezji obliczeń\n",
    "    mp.dps = min_prec\n",
    "    \n",
    "    f_a = mpf(func(a))\n",
    "    f_b = mpf(func(b))\n",
    "    \n",
    "    if f_a*f_b > 0:\n",
    "        raise ArithmeticError()\n",
    "        \n",
    "    iter_count = 0\n",
    "    \n",
    "    while True:\n",
    "        iter_count += 1\n",
    "        x_0 = mpf((a+b)/2)\n",
    "        \n",
    "        if abs(a-x_0) < err:\n",
    "            return (x_0, mpf(func(x_0)), iter_count)\n",
    "        \n",
    "        f_x = mpf(func(x_0))\n",
    "        \n",
    "        if abs(f_x) < err:\n",
    "            return (x_0, f_x, iter_count)\n",
    "        \n",
    "        if mpf(f_x*f_a) < 0:\n",
    "            b = x_0\n",
    "        else:\n",
    "            a = x_0\n",
    "            f_a = f_x"
   ]
  },
  {
   "cell_type": "markdown",
   "metadata": {},
   "source": [
    "Poniżej znajdoue się funckaja która stwierdza czy liczba iteracji potrzebnych do uzyskania bezwględnej dokłądności $\\epsilon$ jest zgodna z wzorem\n",
    "$$n = \\frac{log\\frac{b-a}{\\epsilon}}{log2}$$\n",
    "Obarczyłem tą funkcję lekkim błędem - 1.5 gdyż wynik logarytmu często nie jest liczbą całkowitą."
   ]
  },
  {
   "cell_type": "code",
   "execution_count": 4,
   "metadata": {},
   "outputs": [],
   "source": [
    "def check_count_number(a, b, E, N):\n",
    "    n = np.log((b-a)/E)/np.log(2)\n",
    "    if abs(n-N) <= 1.5:\n",
    "        print(\"Success!\")"
   ]
  },
  {
   "cell_type": "code",
   "execution_count": 5,
   "metadata": {},
   "outputs": [],
   "source": [
    "def print_values(x,f,iter_count):\n",
    "    print(f\"x_0 = {x}\")\n",
    "    print(f\"f(x_0) = {f}\")\n",
    "    print(f\"iteration count: {iter_count}\")"
   ]
  },
  {
   "cell_type": "markdown",
   "metadata": {},
   "source": [
    "### Dla bezwględnej dokładności $10^{-7}$"
   ]
  },
  {
   "cell_type": "code",
   "execution_count": 6,
   "metadata": {},
   "outputs": [
    {
     "name": "stdout",
     "output_type": "stream",
     "text": [
      "x_0 = 4.7300407137759520999\n",
      "f(x_0) = -1.7920119401830798852e-6\n",
      "iteration count: 24\n",
      "Success!\n"
     ]
    }
   ],
   "source": [
    "x_0, f_0, iter_count = bisection(f_1, 20, (3/2)*np.pi, 2*np.pi, 10**(-7))\n",
    "print_values(x_0, f_0, iter_count)\n",
    "check_count_number((3/2)*np.pi, 2*np.pi, 10**(-7),iter_count)"
   ]
  },
  {
   "cell_type": "code",
   "execution_count": 7,
   "metadata": {},
   "outputs": [
    {
     "name": "stdout",
     "output_type": "stream",
     "text": [
      "x_0 = 0.86033355556878957972\n",
      "f(x_0) = 1.2383635062817776251e-7\n",
      "iteration count: 24\n",
      "Success!\n"
     ]
    }
   ],
   "source": [
    "x_0, f_0, iter_count = bisection(f_2, 20, 0.0000000000001, np.pi/2, 10**(-7))\n",
    "print_values(x_0, f_0, iter_count)\n",
    "check_count_number(0.0000000000001, np.pi/2, 10**(-7), iter_count)"
   ]
  },
  {
   "cell_type": "code",
   "execution_count": 8,
   "metadata": {},
   "outputs": [
    {
     "name": "stdout",
     "output_type": "stream",
     "text": [
      "x_0 = 1.8293836116790771484\n",
      "f(x_0) = 3.9970052357136867226e-8\n",
      "iteration count: 23\n",
      "Success!\n"
     ]
    }
   ],
   "source": [
    "x_0, f_0, iter_count = bisection(f_3, 20, 1, 3, 10**(-7))\n",
    "print_values(x_0, f_0, iter_count)\n",
    "check_count_number(1, 3, 10**(-7), iter_count)"
   ]
  },
  {
   "cell_type": "markdown",
   "metadata": {},
   "source": [
    "#### Info:\n",
    "Dla funkcji f_2 przyjąłęm przedział od (0,$\\frac{\\pi}{2}$]\n",
    "## Wnioski:\n",
    "- Dla bezwględnej dokładności $10^{-7}$ potrzeba 23-24 iteracje, moje obliczenia wykazały taki wynik i jest on zgodny z wzorem.\n",
    "- Wartości miejsc zerowych są poprawnie wyliczone, bezwględna dokłądność wyniku mieści się w przedziale który zdefiniowałem.\n",
    "- Liczenie miejsc zerowych metodą bisekcji dla bezwględnej dokłądności $10^{-7}$ jest bardzo szybkie, potrzeba niewiele iteracji"
   ]
  },
  {
   "cell_type": "markdown",
   "metadata": {},
   "source": [
    "### Dla bezwględnej dokładności $10^{-15}$"
   ]
  },
  {
   "cell_type": "code",
   "execution_count": 9,
   "metadata": {},
   "outputs": [
    {
     "name": "stdout",
     "output_type": "stream",
     "text": [
      "x_0 = 4.730040744862703879674288997\n",
      "f(x_0) = -8.43640803615550276087610604106e-15\n",
      "iteration count: 51\n",
      "Success!\n"
     ]
    }
   ],
   "source": [
    "x_0, f_0, iter_count = bisection(f_1, 30, (3/2)*np.pi, 2*np.pi, 10**(-15))\n",
    "print_values(x_0, f_0, iter_count)\n",
    "check_count_number((3/2)*np.pi, 2*np.pi, 10**(-15),iter_count)"
   ]
  },
  {
   "cell_type": "code",
   "execution_count": 10,
   "metadata": {},
   "outputs": [
    {
     "name": "stdout",
     "output_type": "stream",
     "text": [
      "x_0 = 0.860333589019380057190627738571\n",
      "f(x_0) = -1.09102430381455854327844440711e-15\n",
      "iteration count: 51\n",
      "Success!\n"
     ]
    }
   ],
   "source": [
    "x_0, f_0, iter_count = bisection(f_2, 30, 0.0000000000001, np.pi/2, 10**(-15))\n",
    "print_values(x_0, f_0, iter_count)\n",
    "check_count_number(0.0000000000001, np.pi/2, 10**(-15), iter_count)"
   ]
  },
  {
   "cell_type": "code",
   "execution_count": 11,
   "metadata": {},
   "outputs": [
    {
     "name": "stdout",
     "output_type": "stream",
     "text": [
      "x_0 = 1.82938360193384941254635123187\n",
      "f(x_0) = 2.44207456179948700718492882473e-15\n",
      "iteration count: 51\n",
      "Success!\n"
     ]
    }
   ],
   "source": [
    "x_0, f_0, iter_count = bisection(f_3, 30, 1, 3, 10**(-15))\n",
    "print_values(x_0, f_0, iter_count)\n",
    "check_count_number(1, 3, 10**(-15), iter_count)"
   ]
  },
  {
   "cell_type": "markdown",
   "metadata": {},
   "source": [
    "## Wnioski:\n",
    "- Liczba iteracji wszędzie jest równa 51, dalej jest to bardzo szybkie znajdowanie miejsca zerowego, lecz jak zobaczymy w dalszej części sprawozdania niektóre metody radzą sobie lepiej.\n",
    "- Wyniki mieszczą się w podanej dokładności\n",
    "- Zmiana wartości mp.dps z 20 na 30 poskutkowała większą liczbą liczb znaczących zgodnie z oczekiwaniami"
   ]
  },
  {
   "cell_type": "markdown",
   "metadata": {},
   "source": [
    "### Dla bezwględnej dokładności $10^{-33}$"
   ]
  },
  {
   "cell_type": "code",
   "execution_count": 12,
   "metadata": {},
   "outputs": [
    {
     "name": "stdout",
     "output_type": "stream",
     "text": [
      "x_0 = 4.7300407448627040260240481008338849513259148099913\n",
      "f(x_0) = 7.576210851985323587082223084674072511794124918112e-33\n",
      "iteration count: 111\n",
      "Success!\n"
     ]
    }
   ],
   "source": [
    "x_0, f_0, iter_count = bisection(f_1, 50, (3/2)*np.pi, 2*np.pi, 10**(-33))\n",
    "print_values(x_0, f_0, iter_count)\n",
    "check_count_number((3/2)*np.pi, 2*np.pi, 10**(-33),iter_count)"
   ]
  },
  {
   "cell_type": "code",
   "execution_count": 13,
   "metadata": {},
   "outputs": [
    {
     "name": "stdout",
     "output_type": "stream",
     "text": [
      "x_0 = 0.86033358901937976248389342413766233529170551098947\n",
      "f(x_0) = -6.959225291518433212059180991532236115610723976267e-36\n",
      "iteration count: 111\n",
      "Success!\n"
     ]
    }
   ],
   "source": [
    "x_0, f_0, iter_count = bisection(f_2, 50, 0.0000000000001, np.pi/2, 10**(-33))\n",
    "print_values(x_0, f_0, iter_count)\n",
    "check_count_number(0.0000000000001, np.pi/2, 10**(-33), iter_count)"
   ]
  },
  {
   "cell_type": "code",
   "execution_count": 14,
   "metadata": {},
   "outputs": [
    {
     "name": "stdout",
     "output_type": "stream",
     "text": [
      "x_0 = 1.8293836019338488171362129468141510034535686810466\n",
      "f(x_0) = 8.7017207117816697564041113497366994427287187510743e-34\n",
      "iteration count: 111\n",
      "Success!\n"
     ]
    }
   ],
   "source": [
    "x_0, f_0, iter_count = bisection(f_3, 50, 1, 3, 10**(-33))\n",
    "print_values(x_0, f_0, iter_count)\n",
    "check_count_number(1, 3, 10**(-33), iter_count)"
   ]
  },
  {
   "cell_type": "markdown",
   "metadata": {},
   "source": [
    "## Wnioski:\n",
    "- Liczba iteracji wszędzie jest równa 111, jest to dosyć spora liczba iteracji lecz zyskujemy bardzo dobrą dokładność\n",
    "- Wyniki mieszczą się w podanej dokładności\n",
    "- Zmiana wartości mp.dps z 30 na 50 poskutkowała większą liczbą liczb znaczących zgodnie z oczekiwaniami.\n",
    "\n",
    "## Wnioski ogólne:\n",
    "- Metoda bisekcji pozwala w umiarkowanym czasie wyznaczyć miejsce zerowe funcji z oczekiwaną dokładnością\n",
    "- Metoda bisekcji jest zawsze zbieżna, jeśli tylko dobrze wybrano przedział początkowy.\n",
    "- Metodę bisekcji cechuje wolna zbieżność p=1 (metoda liniowa)\n"
   ]
  },
  {
   "cell_type": "markdown",
   "metadata": {},
   "source": [
    "## W jaki sposób możemy obliczyć k pierwszych dodatnich pierwiastków funkcji f1(x)?"
   ]
  },
  {
   "cell_type": "markdown",
   "metadata": {},
   "source": [
    "-"
   ]
  },
  {
   "cell_type": "markdown",
   "metadata": {},
   "source": [
    "## Zadanie 2 Metoda Newtona\n",
    "Napisz funkcję realizującą metodę Newtona w oparciu o arytmetykę o zmiennej precyzji. Funkcja ma wykorzystywać dwa kryteria stopu:\n",
    "- maksymalną liczbę iteracji\n",
    "- moduł różnicy kolejnych przybliżeń mniejszy od danej wartości $\\epsilon$\n",
    "\n",
    "\n",
    "Oprócz przybliżonej wartości pierwiastka funkcja ma zwrócić liczbę iteracji potrzebną\n",
    "do uzyskania określonej dokładności ε. Przetestuj działanie metody dla funkcji podanych\n",
    "na początku instrukcji (dodatkowo dostępne pochodne tych funkcji). Porównaj zbieżność\n",
    "metody ze zbieżnością uzyskaną dla metody bisekcji.\n",
    "\n",
    "\n",
    "\n"
   ]
  },
  {
   "cell_type": "markdown",
   "metadata": {},
   "source": [
    "**Metoda Newtona** - polega na kolejnych przybliżeniach pierwiastka funkcji przez wyznaczanie przecięć stycznej do wykresu funkcji z osią OX.Funckja musi spełniać następukące własności:\n",
    "- Funkcja jest określona w przedziale [a,b]\n",
    "- Funkcja jest ciągła w przedziale [a,b]\n",
    "- Na krańcach przedziału [a,b] funkcja ma różne znaki\n",
    "\n",
    "Metoda Newtona wmaga znajomości pierwszej pochodnej funkcji, jest ona zwykle szybko zbieżna. Odległości pomiędzy kolejnymi dwoma punktami $x_{i-1}$ i $x_i$ maleje. "
   ]
  },
  {
   "cell_type": "code",
   "execution_count": 15,
   "metadata": {},
   "outputs": [],
   "source": [
    "def newton(func,df, max_iter, E, min_prec, a, b):\n",
    "    \n",
    "    mp.dps = min_prec\n",
    "    # pobranie losowego punktu z przedziału [a,b]\n",
    "    x_0 = uniform(a, b)\n",
    "    iter_count = 0\n",
    "    \n",
    "    while True:\n",
    "        iter_count += 1\n",
    "        max_iter -= 1\n",
    "        \n",
    "        if max_iter == 0:\n",
    "            raise ArithmeticError()\n",
    "        \n",
    "        f_0 = mpf(func(x_0))\n",
    "        \n",
    "        if abs(f_0) < E:\n",
    "            return (x_0, f_0, iter_count)\n",
    "        \n",
    "        f_1 = df(x_0)\n",
    "        x_1 = x_0\n",
    "        x_0 = x_0 - mpf((f_0/f_1))\n",
    "        \n",
    "        if abs(x_1-x_0) < E:\n",
    "            return (x_0, mpf(func(x_0)), iter_count)"
   ]
  },
  {
   "cell_type": "code",
   "execution_count": 16,
   "metadata": {},
   "outputs": [],
   "source": [
    "def df_1(x): return mp.cos(x)*mp.sinh(x) - mp.sin(x)*mp.cosh(x)\n",
    "\n",
    "def df_2(x): return (-1)/(x**2) - 1/(mp.cos(x)**2)\n",
    "\n",
    "def df_3(x): return mp.e**x - 2**(-x)*mp.log(2)-2*mp.sin(x)"
   ]
  },
  {
   "cell_type": "markdown",
   "metadata": {},
   "source": [
    "### Dla bezwględnej dokładności $10^{-7}$"
   ]
  },
  {
   "cell_type": "code",
   "execution_count": 17,
   "metadata": {},
   "outputs": [
    {
     "name": "stdout",
     "output_type": "stream",
     "text": [
      "x_0 = 4.7300407448958525719\n",
      "f(x_0) = 1.9108651775684497255e-9\n",
      "iteration count: 6\n"
     ]
    }
   ],
   "source": [
    "x_0, f_0, iter_count = newton(f_1,df_1, 100, 10**(-7), 20, (3/2)*np.pi, 2*np.pi)\n",
    "print_values(x_0, f_0, iter_count)"
   ]
  },
  {
   "cell_type": "code",
   "execution_count": 18,
   "metadata": {},
   "outputs": [
    {
     "name": "stdout",
     "output_type": "stream",
     "text": [
      "x_0 = 0.86033358901938078075\n",
      "f(x_0) = -3.7696760860420064354e-15\n",
      "iteration count: 3\n"
     ]
    }
   ],
   "source": [
    "x_0, f_0, iter_count = newton(f_2,df_2, 100, 10**(-7), 20,  0.0000000000001, np.pi/2)\n",
    "print_values(x_0, f_0, iter_count)"
   ]
  },
  {
   "cell_type": "code",
   "execution_count": 19,
   "metadata": {},
   "outputs": [
    {
     "name": "stdout",
     "output_type": "stream",
     "text": [
      "x_0 = 1.829383611721516032\n",
      "f(x_0) = 4.0144115432132372601e-8\n",
      "iteration count: 6\n"
     ]
    }
   ],
   "source": [
    "x_0, f_0, iter_count = newton(f_3,df_3, 100, 10**(-7), 20, 1, 3)\n",
    "print_values(x_0, f_0, iter_count)"
   ]
  },
  {
   "cell_type": "markdown",
   "metadata": {},
   "source": [
    "### Dla bezwględnej dokładności $10^{-15}$"
   ]
  },
  {
   "cell_type": "code",
   "execution_count": 20,
   "metadata": {},
   "outputs": [
    {
     "name": "stdout",
     "output_type": "stream",
     "text": [
      "x_0 = 4.73004074486270402602409251401\n",
      "f(x_0) = 2.56022054256565839030934472989e-21\n",
      "iteration count: 7\n"
     ]
    }
   ],
   "source": [
    "x_0, f_0, iter_count = newton(f_1,df_1, 100, 10**(-15), 30, (3/2)*np.pi, 2*np.pi)\n",
    "print_values(x_0, f_0, iter_count)"
   ]
  },
  {
   "cell_type": "code",
   "execution_count": 21,
   "metadata": {},
   "outputs": [
    {
     "name": "stdout",
     "output_type": "stream",
     "text": [
      "x_0 = 0.860333589019379762484153611768\n",
      "f(x_0) = -9.63232239648813389464433124401e-22\n",
      "iteration count: 6\n"
     ]
    }
   ],
   "source": [
    "x_0, f_0, iter_count = newton(f_2,df_2, 100, 10**(-15), 30,  0.0000000000001, np.pi/2)\n",
    "print_values(x_0, f_0, iter_count)"
   ]
  },
  {
   "cell_type": "code",
   "execution_count": 22,
   "metadata": {},
   "outputs": [
    {
     "name": "stdout",
     "output_type": "stream",
     "text": [
      "x_0 = 1.82938360193384882194893730676\n",
      "f(x_0) = 1.97393879893046958627951405303e-17\n",
      "iteration count: 8\n"
     ]
    }
   ],
   "source": [
    "x_0, f_0, iter_count = newton(f_3,df_3, 100, 10**(-15), 30, 1, 3)\n",
    "print_values(x_0, f_0, iter_count)"
   ]
  },
  {
   "cell_type": "markdown",
   "metadata": {},
   "source": [
    "### Dla bezwględnej dokładności $10^{-33}$"
   ]
  },
  {
   "cell_type": "code",
   "execution_count": 23,
   "metadata": {},
   "outputs": [
    {
     "name": "stdout",
     "output_type": "stream",
     "text": [
      "x_0 = 4.7300407448627040260240481008338848213230578749345\n",
      "f(x_0) = 8.2128499639863027370477755689582051856030029066644e-35\n",
      "iteration count: 8\n"
     ]
    }
   ],
   "source": [
    "x_0, f_0, iter_count = newton(f_1,df_1, 100, 10**(-33), 50, (3/2)*np.pi, 2*np.pi)\n",
    "print_values(x_0, f_0, iter_count)"
   ]
  },
  {
   "cell_type": "code",
   "execution_count": 24,
   "metadata": {},
   "outputs": [
    {
     "name": "stdout",
     "output_type": "stream",
     "text": [
      "x_0 = 0.86033358901937976248389342413766233390804945147666\n",
      "f(x_0) = -1.8368367836328201401679506856740453928745239410457e-36\n",
      "iteration count: 7\n"
     ]
    }
   ],
   "source": [
    "x_0, f_0, iter_count = newton(f_2,df_2, 100, 10**(-33), 50,  0.0000000000001, np.pi/2)\n",
    "print_values(x_0, f_0, iter_count)"
   ]
  },
  {
   "cell_type": "code",
   "execution_count": 25,
   "metadata": {},
   "outputs": [
    {
     "name": "stdout",
     "output_type": "stream",
     "text": [
      "x_0 = 1.829383601933848817136212946814150791296884067294\n",
      "f(x_0) = 1.1472127501766075361338002482461986939358960368823e-38\n",
      "iteration count: 8\n"
     ]
    }
   ],
   "source": [
    "x_0, f_0, iter_count = newton(f_3,df_3, 1000, 10**(-33), 50, 1, 3)\n",
    "print_values(x_0, f_0, iter_count)"
   ]
  },
  {
   "cell_type": "markdown",
   "metadata": {},
   "source": [
    "## Wnioski ogólne:\n",
    "- Metodę Newtona w porównaniu do metody Bisekcji cechuje szybka zbieżność p = 2\n",
    "- Metoda ta wymaga znajomości pochodnej f(x), mogą w tym pomagać różne biblioteki pythona.\n",
    "- Metoda Newtona wymaga dużo razy mniej iteracji niż metoda bisekcji\n",
    "- Metoda Newtona jest zbieżna gry $f(x), f^{'}(x), f^{''}(x)$ są ciągłe, oraz $f^{'}(x)$ jest różna od 0 w pobliżu rozwiązania.\n",
    "- Metoda Newtona czasem może zawieźć, np gdy pochodna w $x_n$ jest bliska 0"
   ]
  },
  {
   "cell_type": "markdown",
   "metadata": {},
   "source": [
    "## Zadanie 3 Metoda siecznych\n",
    "\n",
    "Napisz funkcję realizującą metodę siecznych w oparciu o arytmetykę o zmiennej precyzji. Funkcja powinna stosować te same kryteria stopu co funkcja realizująca\n",
    "metodę Newtona. Przetestuj działanie metody dla funkcji podanych na początku instrukcji. Porównaj zbieżność metody ze zbieżnością uzyskaną dla metody bisekcji oraz\n",
    "metody Newtona.\n",
    "\n",
    "Warunki metody siecznych są takie same jak dla powyższych dwóch metod.\n",
    "\n",
    "Metoda siecznych jest zwykle szybko zbieżna do pierwiastka funkcji. Jednak po wybraniu złych punktów początkowych może się zdarzyć, iż nie będzie ona zbieżna. Dlatego należy zastosować licznik kolejnych przybliżeń, a po przekroczeniu zadanej ich liczby algorytm powinien zatrzymać się z błędem.\n",
    "\n",
    "Mimo że w metodzie siecznych nie musimy znać pochodnej funkcji gdyż stosujemy jej przybliżenie, to dalej występują te same problemy ze zbieżnością co w metodzie Newtona."
   ]
  },
  {
   "cell_type": "code",
   "execution_count": 26,
   "metadata": {},
   "outputs": [],
   "source": [
    "def secant_method(func, max_iter, E, min_prec, a, b):\n",
    "    mp.dps = min_prec\n",
    "    \n",
    "    f_1 = mpf(func(a))\n",
    "    f_2 = mpf(func(b))\n",
    "    \n",
    "    iter_count = 0\n",
    "    \n",
    "    while True:\n",
    "        iter_count += 1\n",
    "        \n",
    "        if max_iter == 0:\n",
    "            raise ArithmeticError()\n",
    "        else:\n",
    "            max_iter -= 1\n",
    "        \n",
    "        x_n = mpf((f_1*b - f_2*a)/(f_1-f_2))\n",
    "        f_n = mpf(func(x_n))\n",
    "        \n",
    "        if abs(f_n) < E:\n",
    "            return (x_n, f_n, iter_count)\n",
    "        \n",
    "        a = b\n",
    "        f_1 = f_2\n",
    "        b = x_n\n",
    "        f_2 = f_n"
   ]
  },
  {
   "cell_type": "markdown",
   "metadata": {},
   "source": [
    "### Dla bezwględnej dokładności $10^{-7}$"
   ]
  },
  {
   "cell_type": "code",
   "execution_count": 27,
   "metadata": {},
   "outputs": [
    {
     "name": "stdout",
     "output_type": "stream",
     "text": [
      "x_0 = 4.73004074479800348765100836869\n",
      "f(x_0) = -0.00000000372969620983055015831795540772\n",
      "iteration count: 5\n"
     ]
    }
   ],
   "source": [
    "x_0, f_0, iter_count = secant_method(f_1, 100, 10**(-7), 30, (3/2)*np.pi, 2*np.pi)\n",
    "print_values(x_0, f_0, iter_count)"
   ]
  },
  {
   "cell_type": "code",
   "execution_count": 28,
   "metadata": {},
   "outputs": [
    {
     "name": "stdout",
     "output_type": "stream",
     "text": [
      "x_0 = 0.860333589008509206487380880893\n",
      "f(x_0) = 4.02435350373700062551222221709e-11\n",
      "iteration count: 25\n"
     ]
    }
   ],
   "source": [
    "x_0, f_0, iter_count = secant_method(f_2, 100, 10**(-7), 30,  0.000000000001, np.pi/2)\n",
    "print_values(x_0, f_0, iter_count)"
   ]
  },
  {
   "cell_type": "code",
   "execution_count": 29,
   "metadata": {},
   "outputs": [
    {
     "name": "stdout",
     "output_type": "stream",
     "text": [
      "x_0 = 1.82938360194113927227398375043\n",
      "f(x_0) = 2.99018002738066333111309662513e-11\n",
      "iteration count: 9\n"
     ]
    }
   ],
   "source": [
    "x_0, f_0, iter_count = secant_method(f_3, 100, 10**(-7), 30, 1, 3)\n",
    "print_values(x_0, f_0, iter_count)"
   ]
  },
  {
   "cell_type": "markdown",
   "metadata": {},
   "source": [
    "### Dla bezwględnej dokładności $10^{-15}$"
   ]
  },
  {
   "cell_type": "code",
   "execution_count": 30,
   "metadata": {},
   "outputs": [
    {
     "name": "stdout",
     "output_type": "stream",
     "text": [
      "x_0 = 4.730040744862704026024048097945617717027\n",
      "f(x_0) = -1.664956604400142914724340238596377935406e-25\n",
      "iteration count: 7\n"
     ]
    }
   ],
   "source": [
    "x_0, f_0, iter_count = secant_method(f_1, 100, 10**(-15), 40, (3/2)*np.pi, 2*np.pi)\n",
    "print_values(x_0, f_0, iter_count)"
   ]
  },
  {
   "cell_type": "code",
   "execution_count": 31,
   "metadata": {},
   "outputs": [
    {
     "name": "stdout",
     "output_type": "stream",
     "text": [
      "x_0 = 0.8603335890193797634589680719347708783882\n",
      "f(x_0) = -3.60979243061689579512447853133719944087e-18\n",
      "iteration count: 26\n"
     ]
    }
   ],
   "source": [
    "x_0, f_0, iter_count = secant_method(f_2, 100, 10**(-15), 40,  0.000000000001, np.pi/2)\n",
    "print_values(x_0, f_0, iter_count)"
   ]
  },
  {
   "cell_type": "code",
   "execution_count": 32,
   "metadata": {},
   "outputs": [
    {
     "name": "stdout",
     "output_type": "stream",
     "text": [
      "x_0 = 1.829383601933848816282244435625022434088\n",
      "f(x_0) = -3.502551675991676716579680875876174760842e-18\n",
      "iteration count: 10\n"
     ]
    }
   ],
   "source": [
    "x_0, f_0, iter_count = secant_method(f_3, 100, 10**(-15), 40, 1, 3)\n",
    "print_values(x_0, f_0, iter_count)"
   ]
  },
  {
   "cell_type": "markdown",
   "metadata": {},
   "source": [
    "### Dla bezwględnej dokładności $10^{-33}$"
   ]
  },
  {
   "cell_type": "code",
   "execution_count": 33,
   "metadata": {},
   "outputs": [
    {
     "name": "stdout",
     "output_type": "stream",
     "text": [
      "x_0 = 4.73004074486270402602404810083388481989834167177303968305524\n",
      "f(x_0) = -7.43245652805568719804060016770982140168153861422754684428851e-42\n",
      "iteration count: 8\n"
     ]
    }
   ],
   "source": [
    "x_0, f_0, iter_count = secant_method(f_1, 100, 10**(-33), 60, (3/2)*np.pi, 2*np.pi)\n",
    "print_values(x_0, f_0, iter_count)"
   ]
  },
  {
   "cell_type": "code",
   "execution_count": 34,
   "metadata": {},
   "outputs": [
    {
     "name": "stdout",
     "output_type": "stream",
     "text": [
      "x_0 = 0.860333589019379762483893424137662333411884363236634945321371\n",
      "f(x_0) = 3.77180614925866356930474895365399212021659442398658238257655e-48\n",
      "iteration count: 28\n"
     ]
    }
   ],
   "source": [
    "x_0, f_0, iter_count = secant_method(f_2, 100, 10**(-33), 60,  0.000000000001, np.pi/2)\n",
    "print_values(x_0, f_0, iter_count)"
   ]
  },
  {
   "cell_type": "code",
   "execution_count": 35,
   "metadata": {},
   "outputs": [
    {
     "name": "stdout",
     "output_type": "stream",
     "text": [
      "x_0 = 1.82938360193384881713621294681415079129408701059480209638089\n",
      "f(x_0) = 1.53246911809227500052001634765589647224862693151011543462954e-47\n",
      "iteration count: 12\n"
     ]
    }
   ],
   "source": [
    "x_0, f_0, iter_count = secant_method(f_3, 100, 10**(-33), 60, 1, 3)\n",
    "print_values(x_0, f_0, iter_count)"
   ]
  },
  {
   "cell_type": "markdown",
   "metadata": {},
   "source": [
    "## Wnioski:\n",
    "- Mamy te same problemy ze zbieżnością co w metodzie Newtona.\n",
    "- Dla funkcji f_2 mamy więcej iteracji niż dla pozostałych funkcji, wynika to zapewne z wspomnianych problemów ze zbieżnością, lecz sam wynik funkcji jest bardzo dobry.\n",
    "- Liczba iteracji potrzebna do uzyskania wyniku jest niewielka, jest to szybka metoda.\n",
    "- Zbieżność metody siecznych jest szybsza niż liniowa, znalazłem iż wynosi około 1.618"
   ]
  },
  {
   "cell_type": "markdown",
   "metadata": {},
   "source": [
    "# Wnioski ogólne:\n",
    "- Gdy chcemy mieć pewność wyniku powinniśmy zastosować metodę bisekcji, ewentualnie stosować którąś z metod siecznych/ Newtona i po ewentualnym zwróceniu błędu zastosować metodę bisekcji.\n",
    "- Metoda siecznych i Newtona wypadają bardzo dobrze czasowo, metoda Newtona jest jednak trochę szybsza.\n",
    "- Niestety w metodzie Newtona i siecznych występują czasem problemy ze zbieżnością.\n",
    "- Wszystkie powyższe metody bardzo dobrze nadają się do szukania miejsc zerowych funkcji w przedziale.\n",
    "- Przy metodzie Newtona musimy znać pochodną funkcji, można zastosować liczne biblioteki pythona które wyliczą tą pochodną za nas lub można liczyć bezpośrednio pochodną funkcji w punkcie bo taka nas właśnie interesuje."
   ]
  }
 ],
 "metadata": {
  "kernelspec": {
   "display_name": "Python 3",
   "language": "python",
   "name": "python3"
  },
  "language_info": {
   "codemirror_mode": {
    "name": "ipython",
    "version": 3
   },
   "file_extension": ".py",
   "mimetype": "text/x-python",
   "name": "python",
   "nbconvert_exporter": "python",
   "pygments_lexer": "ipython3",
   "version": "3.6.9"
  }
 },
 "nbformat": 4,
 "nbformat_minor": 2
}
