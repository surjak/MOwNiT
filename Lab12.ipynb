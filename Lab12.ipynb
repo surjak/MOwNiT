{
 "cells": [
  {
   "cell_type": "markdown",
   "metadata": {},
   "source": [
    "# Metody Obliczeniowe w Nauce i Technice\n",
    "## Laboratorium 12\n",
    "### Równania różniczkowe i zagadnienie początkowe\n",
    "#### Mateusz Surjak"
   ]
  },
  {
   "cell_type": "markdown",
   "metadata": {},
   "source": [
    "## Metoda Rungego-Kutty"
   ]
  },
  {
   "cell_type": "markdown",
   "metadata": {},
   "source": [
    "Metoda Rungego-Kutty jest to metoda numeryczna do iteracyjnego rozwiązywania równań różniczkowych zwyczajnych. "
   ]
  },
  {
   "cell_type": "code",
   "execution_count": 1,
   "metadata": {},
   "outputs": [],
   "source": [
    "from mpmath import *\n",
    "import numpy as np\n",
    "\n",
    "def rk4(f, t, x, h, n): \n",
    "    t_a = t\n",
    "    for j in range(1, n+1): \n",
    "        k1 = h * f(t, x) \n",
    "        k2 = h * f(t + 0.5 * h, x + 0.5 * k1) \n",
    "        k3 = h * f(t + 0.5 * h, x + 0.5 * k2) \n",
    "        k4 = h * f(t + h, x + k3) \n",
    "        x = x + (1.0/6.0)*(k1 + 2 * k2 + 2 * k3 + k4) \n",
    "        t = t_a + j*h \n",
    "    return x"
   ]
  },
  {
   "cell_type": "markdown",
   "metadata": {},
   "source": [
    "#### Jakie zalety ma metoda Rungego-Kutty w porównaniu do metody z szeregami Taylora?\n",
    "Metoda n-tego rzędu z szeregami Tylora wymaga znalezienia wyrażeń dla pochodnej funkcji f względem t do n-tej włącznie. Metoda Rungego-Kutty nie potrzebuje znać wzorów pochodnych."
   ]
  },
  {
   "cell_type": "code",
   "execution_count": 2,
   "metadata": {},
   "outputs": [],
   "source": [
    "def fun(t, x):\n",
    "    return x/t + t*sec(x/t)\n",
    "\n",
    "def test(t):\n",
    "    return t*np.arcsin(t)"
   ]
  },
  {
   "cell_type": "markdown",
   "metadata": {},
   "source": [
    "Za punkt początkowy przyjąłem wartość bliską 0, a nie samo 0 aby zapobiec dzieleniu przez 0."
   ]
  },
  {
   "cell_type": "code",
   "execution_count": 3,
   "metadata": {},
   "outputs": [
    {
     "name": "stdout",
     "output_type": "stream",
     "text": [
      "1.51912512047707\n",
      "1.5707963267948966\n"
     ]
    }
   ],
   "source": [
    "a = 10**(-30) # 0\n",
    "# x(a)\n",
    "x = 0\n",
    "h = 2**(-7)\n",
    "t = 1\n",
    "n = int((t-a)/h)\n",
    "print(rk4(fun,a,x, h, n) )\n",
    "print(test(1))"
   ]
  },
  {
   "cell_type": "markdown",
   "metadata": {},
   "source": [
    "Wartość jest bliska wartości rzeczywystej, jeśli zmniejszymy h to wynik jest dokładniejszy."
   ]
  },
  {
   "cell_type": "code",
   "execution_count": 4,
   "metadata": {},
   "outputs": [
    {
     "name": "stdout",
     "output_type": "stream",
     "text": [
      "1.5616613388712\n",
      "1.5707963267948966\n"
     ]
    }
   ],
   "source": [
    "a = 10**(-30) # 0\n",
    "# x(a)\n",
    "x = 0\n",
    "h = 2**(-12)\n",
    "t = 1\n",
    "n = int((t-a)/h)\n",
    "print(rk4(fun,a,x, h, n) )\n",
    "print(test(1))"
   ]
  },
  {
   "cell_type": "markdown",
   "metadata": {},
   "source": [
    "Wyniki są bardzo bliskie wynikom prawdziwym."
   ]
  },
  {
   "cell_type": "code",
   "execution_count": 5,
   "metadata": {},
   "outputs": [
    {
     "name": "stdout",
     "output_type": "stream",
     "text": [
      "For h: 0.015 result ---> 0.15100302946456207\n",
      "For h: 0.02 result ---> 0.15099613280114313\n",
      "For h: 0.025 result ---> 0.15094316610112551\n",
      "For h: 0.03 result ---> 672890582787.5071\n"
     ]
    }
   ],
   "source": [
    "def fun2(t,x):\n",
    "    return 100*(np.sin(t) - x)\n",
    "\n",
    "a = 10**(-30) # 0\n",
    "# x(a)\n",
    "x = 0\n",
    "t = 3\n",
    "hh = [0.015, 0.02, 0.025, 0.03]\n",
    "for h in hh:\n",
    "    n = int((t-a)/h)\n",
    "    print(f'For h: {h} result ---> {rk4(fun2,a,x, h, n)}' )"
   ]
  },
  {
   "cell_type": "markdown",
   "metadata": {},
   "source": [
    "Wyniki dla h mniejszego od 0.03 są naprawdę dobre, natomiast dla h = 0.3 wynik jest totalnie nieprawdziwy.\n",
    "\n",
    "To zjawisko zostało zauważone przez Dahlquista i Bjorcka, jest opisane w książce \"The first course in Numerical Analysis\". Dokładne rozwiązanie wygląda następująco:\n",
    "$$y(x) = \\frac{sin(x) - .01cos(x) + .01e^{-100x}}{1.0001}$$\n",
    "\n",
    "Problem leży w tym że składnik $.01e^{-100x}$ wpływa na przedział stabilności w trakcie obliczeń. Dla przypadku z zadania przedział ten wynosi od 0 do 2.78 (liczby zaczerpnięte z w.w książki), co w przeliczeniu na h wynosi (0, 0.0278). To wyjaśnia dlaczego wartość h = 0.03 powoduje niestabilność i wynik jest bardzo rozbieżny z rzeczywistoscią.\n",
    "\n"
   ]
  },
  {
   "cell_type": "markdown",
   "metadata": {},
   "source": [
    "## Adaptacyjna metoda Rungego-Kutty-Fehlberga"
   ]
  },
  {
   "cell_type": "markdown",
   "metadata": {},
   "source": [
    "Metoda adaptacyjna Rungego-Kutty-Fehlberga pozwala zwiększyć dokładność rozwiązania poprzez kontrolowanie błędu i manipulację wartością h."
   ]
  },
  {
   "cell_type": "code",
   "execution_count": 6,
   "metadata": {},
   "outputs": [],
   "source": [
    "def rk45( f, t,x,h,E):\n",
    "\n",
    "    c20  =   2.500000000000000e-01  \n",
    "    c30  =   3.750000000000000e-01  \n",
    "    c40  =   9.230769230769231e-01  \n",
    "    c50  =   1.000000000000000e+00  \n",
    "    c60  =   5.000000000000000e-01  \n",
    "\n",
    "    c21 =   2.500000000000000e-01  \n",
    "    c31 =   9.375000000000000e-02  \n",
    "    c32 =   2.812500000000000e-01  \n",
    "    c41 =   8.793809740555303e-01  \n",
    "    c42 =  -3.277196176604461e+00  \n",
    "    c43 =   3.320892125625853e+00  \n",
    "    c51 =   2.032407407407407e+00  \n",
    "    c52 =  -8.000000000000000e+00  \n",
    "    c53 =   7.173489278752436e+00  \n",
    "    c54 =  -2.058966861598441e-01  \n",
    "    c61 =  -2.962962962962963e-01  \n",
    "    c62 =   2.000000000000000e+00  \n",
    "    c63 =  -1.381676413255361e+00  \n",
    "    c64 =   4.529727095516569e-01  \n",
    "    c65 =  -2.750000000000000e-01  \n",
    "\n",
    "\n",
    "    a1  =   1.157407407407407e-01  \n",
    "    a2  =   0.000000000000000e-00  \n",
    "    a3  =   5.489278752436647e-01  \n",
    "    a4  =   5.353313840155945e-01  \n",
    "    a5  =  -2.000000000000000e-01  \n",
    "\n",
    "    b1  =   1.185185185185185e-01  \n",
    "    b2  =   0.000000000000000e-00  \n",
    "    b3  =   5.189863547758284e-01  \n",
    "    b4  =   5.061314903420167e-01  \n",
    "    b5  =  -1.800000000000000e-01  \n",
    "    b6  =   3.636363636363636e-02  \n",
    "\n",
    "    k1 = h * f( t,x )\n",
    "    k2 = h * f(t+c20*h,x+c21*k1 )\n",
    "    k3 = h * f(t+c30*h,x+c31*k1+c32*k2 )\n",
    "    k4 = h * f(t+c40*h,x+c41*k1+c42*k2 + c43*k3 )\n",
    "    k5 = h * f(t+h,x+c51*k1+c52*k2+c53*k3 + c54*k4 )\n",
    "    k6 = h * f(t+c60*h,x+c61*k1+c62*k2+c63*k3 + c64*k4 + c65*k5 )\n",
    "\n",
    "    x_4 = x + a1 * k1 + a3 * k3 + a4 * k4 + a5 * k5\n",
    "    x = x + b1 * k1 + b3 * k3 + b4 * k4 + b5 * k5 + b6 * k6\n",
    "    t = t+h\n",
    "    e = abs( x - x_4 )\n",
    "\n",
    "    return ( x, e ,t)\n"
   ]
  },
  {
   "cell_type": "code",
   "execution_count": 7,
   "metadata": {},
   "outputs": [],
   "source": [
    "def RK45_Adaptive(f,t,x,h,tb,itmax,Emax,Emin,hmin,hmax,iflag):\n",
    "    xsave = 0\n",
    "    tsave = 0\n",
    "    sig = 1/2 * (10)**(-5)\n",
    "    iflag = 1\n",
    "    k = 0\n",
    "    d = 0\n",
    "    E = 0\n",
    "    while k <= itmax:\n",
    "        k = k + 1\n",
    "        if abs(h) < hmin:\n",
    "            h = np.sign(h)*hmin\n",
    "        if abs(h) > hmax:\n",
    "            h = np.sign(h)*hmax\n",
    "        d = abs(tb-t)\n",
    "        if d <= abs(h):\n",
    "            iflag = 0\n",
    "            if d <= sig * max([abs(tb),abs(t)]):\n",
    "                break;\n",
    "            h = np.sign(h)*d\n",
    "        xsave = x\n",
    "        tsave = t\n",
    "        x,E,t = rk45(f,t,x,h,E)\n",
    "        if iflag == 0:\n",
    "            break;\n",
    "        if E < Emin:\n",
    "            h = 2*h\n",
    "        if E > Emax:\n",
    "            h = h/2\n",
    "            x = xsave\n",
    "            t = tsave\n",
    "            k = k - 1\n",
    "        \n",
    "    return x\n"
   ]
  },
  {
   "cell_type": "code",
   "execution_count": 8,
   "metadata": {},
   "outputs": [
    {
     "name": "stdout",
     "output_type": "stream",
     "text": [
      "2.2500031598916395\n",
      "2.25\n"
     ]
    }
   ],
   "source": [
    "def ff(t,x):\n",
    "    return 3*x/t+9/2*t-13\n",
    "# ustawienia do metody adaptacyjnej\n",
    "itflag  = 1\n",
    "itmax = 1000\n",
    "Emax = 10**(-5)\n",
    "Emin = 10**(-8)\n",
    "hmin = 10**(-6)\n",
    "hmax = 1\n",
    "t = 3\n",
    "#x(a)\n",
    "x = 6\n",
    "h = -0.01\n",
    "# koniec przedziały - wartość w jakim punkcie nas interesuje\n",
    "tb = 1/2\n",
    "print(RK45_Adaptive(ff,t,x,h,tb,itmax,Emax,Emin,hmin,hmax,itflag))\n",
    "def test_fun(t):\n",
    "    return t**3 - 9/2*t**2+13/2*t\n",
    "print(test_fun(1/2))"
   ]
  },
  {
   "cell_type": "markdown",
   "metadata": {},
   "source": [
    "H przyjąłem ujemne aby można przyjąć warunek brzegowy jako końcowy punkt przedziału."
   ]
  },
  {
   "cell_type": "markdown",
   "metadata": {},
   "source": [
    "Metoda Rungego-Kutty-Fehlberga daje dwa przebliżenia wartości x(t+h), jedno piątego rzędu, drugie czwartego, których różnica jest błędem drugiej wartości. Możemy dzięki temu kontrtolować wartość błędu i sterować wartością h. Pierwsza wartość jest bardziej dokładna dla właściwego h i daje ostateczne przyblizenie. Można sądzić że rzeczywisty błąd jest znacznie mniejszy od błędu przez nas wyliczonego. W skrócie...metoda adaptacyjna pozwala zwiększyć dokładność rozwiązania poprzez kontrolowanie błędu i manipulację wartością h.\n",
    "\n",
    "Wadą tego rozwiązania jest złożoność czasowa."
   ]
  }
 ],
 "metadata": {
  "kernelspec": {
   "display_name": "Python 3",
   "language": "python",
   "name": "python3"
  },
  "language_info": {
   "codemirror_mode": {
    "name": "ipython",
    "version": 3
   },
   "file_extension": ".py",
   "mimetype": "text/x-python",
   "name": "python",
   "nbconvert_exporter": "python",
   "pygments_lexer": "ipython3",
   "version": "3.7.4"
  }
 },
 "nbformat": 4,
 "nbformat_minor": 4
}
