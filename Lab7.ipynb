{
 "cells": [
  {
   "cell_type": "markdown",
   "metadata": {},
   "source": [
    "# Metody Obliczeniowe w Nauce i Technice\n",
    "## Laboratorium 7\n",
    "### Dekompozycja spektralna\n",
    "#### Mateusz Surjak"
   ]
  },
  {
   "cell_type": "code",
   "execution_count": 26,
   "metadata": {},
   "outputs": [],
   "source": [
    "import scipy.linalg\n",
    "import time\n",
    "import matplotlib.pyplot as plt\n",
    "import numpy as np"
   ]
  },
  {
   "cell_type": "markdown",
   "metadata": {},
   "source": [
    "# Metoda potęgowa\n",
    "\n",
    "Napisz funkcję obliczającą metodą potęgową dominującą wartość własną (największą co\n",
    "do modułu) i odpowiadający jej wektor własny dla danej macierzy rzeczywistej symetrycznej. Sprawdź poprawność działania programu porównując własną implementację\n",
    "z wynikami funkcji bibliotecznej. Przedstaw na wykresie zależność czasu obliczeń od\n",
    "rozmiaru macierzy (rozmiary macierzy 100x100, 500x500, ...).\n"
   ]
  },
  {
   "cell_type": "markdown",
   "metadata": {},
   "source": [
    "Poniżej prezentuje funkcje do generowania symetrycznych macierzy rozmiaru NxN"
   ]
  },
  {
   "cell_type": "code",
   "execution_count": 55,
   "metadata": {},
   "outputs": [],
   "source": [
    "def create_matrix(N):\n",
    "    a = np.random.rand(N, N)\n",
    "    return  np.tril(a) + np.tril(a, -1).T"
   ]
  },
  {
   "cell_type": "markdown",
   "metadata": {},
   "source": [
    "Zdefiniowałem metodę odbliczącą  dominującą wartośc własną i odpowiadający jej wektor własny zgodnie z treścią zadania.\n",
    "Na końcu znormaliozowałem otrzymany wektor własny."
   ]
  },
  {
   "cell_type": "code",
   "execution_count": 56,
   "metadata": {},
   "outputs": [],
   "source": [
    "def power_method(matrix, iter_count=10000, E=10**(-10)):\n",
    "    N = len(matrix)\n",
    "    \n",
    "    x1 = np.random.uniform(size=(N, 1))\n",
    "    i = 0\n",
    "    while i<iter_count:\n",
    "        i+=1\n",
    "        \n",
    "        x2 = np.matmul(matrix,x1)\n",
    "        x2_norm = np.linalg.norm(x2, ord=np.inf)\n",
    "        norm = x2/x2_norm\n",
    "        \n",
    "        if np.linalg.norm(norm-x1) < E:\n",
    "            \n",
    "            x1 = norm\n",
    "            x2_norm = np.linalg.norm(x2, np.inf)\n",
    "            x1_norm = np.linalg.norm(x1)\n",
    "            return (x2_norm, (x1/x1_norm).reshape(N))\n",
    "        \n",
    "        x1 = norm\n",
    "        x2_norm = np.linalg.norm(x2, np.inf)\n",
    "        x1_norm = np.linalg.norm(x1)\n",
    "    return (x2_norm, (x1/x1_norm).reshape(N))"
   ]
  },
  {
   "cell_type": "markdown",
   "metadata": {},
   "source": [
    "Następnie zdefiniowałem funkcje która zwraca dominującą wartość własną (największą co do modułu) oraz odpowiadający tej wartości wektor własny korzystając z biblioteki scipy."
   ]
  },
  {
   "cell_type": "code",
   "execution_count": 57,
   "metadata": {},
   "outputs": [],
   "source": [
    "def get_eigenvalue_and_eigenvector(M):\n",
    "    values, vectors = scipy.linalg.eigh(M)\n",
    "    idx = 0\n",
    "    val = 0\n",
    "    for i,j in enumerate(values):\n",
    "        if abs(j)>val:\n",
    "            val = abs(j)\n",
    "            idx = i\n",
    "    \n",
    "    return val, vectors[:,idx]/np.linalg.norm(vectors[:,idx])"
   ]
  },
  {
   "cell_type": "markdown",
   "metadata": {},
   "source": [
    "Poniżej znajduje się funckcja która porównuje wyniki z wynikami bibliotecznymi oraz\n",
    "rysuje wykres zależności czasu od rozmiaru macierzy."
   ]
  },
  {
   "cell_type": "code",
   "execution_count": 58,
   "metadata": {},
   "outputs": [],
   "source": [
    "def check_results_and_draw_time_plot():\n",
    "    E=10**(-6)\n",
    "    Ns = [i for i in range(100,2100,100)]\n",
    "    times = []\n",
    "    \n",
    "    for n in Ns:\n",
    "        \n",
    "        M = create_matrix(n)\n",
    "        \n",
    "        start = time.time()\n",
    "        val, vec = power_method(M)\n",
    "        end = time.time()\n",
    "        \n",
    "        times.append((end-start)*1000)\n",
    "\n",
    "        lib_val, lib_vec = get_eigenvalue_and_eigenvector(M)\n",
    "\n",
    "        if lib_vec[0]*vec[0]<0:\n",
    "            lib_vec = np.multiply(lib_vec , -1)\n",
    "        \n",
    "        print(f\"\"\"\\tfor n = {n}\n",
    "              equality of eigenvalues: {abs(lib_val-val)<E},\n",
    "              eguality of eigenvectors: {np.allclose(vec, lib_vec, rtol=E)}\n",
    "              \"\"\")\n",
    "    \n",
    "    fig, ax1 = plt.subplots(1, 1, figsize=(12,6))\n",
    "    ax1.set_xlabel(\"N\")\n",
    "    ax1.set_ylabel(\"Time [ms]\")\n",
    "    fig.suptitle(\"Time of power method\")\n",
    "    ax1.plot(Ns, times,'bo')   \n",
    "    plt.show()"
   ]
  },
  {
   "cell_type": "code",
   "execution_count": 59,
   "metadata": {},
   "outputs": [
    {
     "name": "stdout",
     "output_type": "stream",
     "text": [
      "\tfor n = 100\n",
      "              equality of eigenvalues: True,\n",
      "              eguality of eigenvectors: True\n",
      "              \n",
      "\tfor n = 200\n",
      "              equality of eigenvalues: True,\n",
      "              eguality of eigenvectors: True\n",
      "              \n",
      "\tfor n = 300\n",
      "              equality of eigenvalues: True,\n",
      "              eguality of eigenvectors: True\n",
      "              \n",
      "\tfor n = 400\n",
      "              equality of eigenvalues: True,\n",
      "              eguality of eigenvectors: True\n",
      "              \n",
      "\tfor n = 500\n",
      "              equality of eigenvalues: True,\n",
      "              eguality of eigenvectors: True\n",
      "              \n",
      "\tfor n = 600\n",
      "              equality of eigenvalues: True,\n",
      "              eguality of eigenvectors: True\n",
      "              \n",
      "\tfor n = 700\n",
      "              equality of eigenvalues: True,\n",
      "              eguality of eigenvectors: True\n",
      "              \n",
      "\tfor n = 800\n",
      "              equality of eigenvalues: True,\n",
      "              eguality of eigenvectors: True\n",
      "              \n",
      "\tfor n = 900\n",
      "              equality of eigenvalues: True,\n",
      "              eguality of eigenvectors: True\n",
      "              \n",
      "\tfor n = 1000\n",
      "              equality of eigenvalues: True,\n",
      "              eguality of eigenvectors: True\n",
      "              \n",
      "\tfor n = 1100\n",
      "              equality of eigenvalues: True,\n",
      "              eguality of eigenvectors: True\n",
      "              \n",
      "\tfor n = 1200\n",
      "              equality of eigenvalues: True,\n",
      "              eguality of eigenvectors: True\n",
      "              \n",
      "\tfor n = 1300\n",
      "              equality of eigenvalues: True,\n",
      "              eguality of eigenvectors: True\n",
      "              \n",
      "\tfor n = 1400\n",
      "              equality of eigenvalues: True,\n",
      "              eguality of eigenvectors: True\n",
      "              \n",
      "\tfor n = 1500\n",
      "              equality of eigenvalues: True,\n",
      "              eguality of eigenvectors: True\n",
      "              \n",
      "\tfor n = 1600\n",
      "              equality of eigenvalues: True,\n",
      "              eguality of eigenvectors: True\n",
      "              \n",
      "\tfor n = 1700\n",
      "              equality of eigenvalues: True,\n",
      "              eguality of eigenvectors: True\n",
      "              \n",
      "\tfor n = 1800\n",
      "              equality of eigenvalues: True,\n",
      "              eguality of eigenvectors: True\n",
      "              \n",
      "\tfor n = 1900\n",
      "              equality of eigenvalues: True,\n",
      "              eguality of eigenvectors: True\n",
      "              \n",
      "\tfor n = 2000\n",
      "              equality of eigenvalues: True,\n",
      "              eguality of eigenvectors: True\n",
      "              \n"
     ]
    },
    {
     "data": {
      "image/png": "[encoded data removed]",
      "text/plain": [
       "<Figure size 864x432 with 1 Axes>"
      ]
     },
     "metadata": {
      "needs_background": "light"
     },
     "output_type": "display_data"
    }
   ],
   "source": [
    "iterations_power_method = check_results_and_draw_time_plot()"
   ]
  },
  {
   "cell_type": "markdown",
   "metadata": {},
   "source": [
    "## Wnioski:\n",
    "- Metoda potęgowa jest stosowana do wyznaczenia maksymalnej wartości\n",
    "własnej, z małą modyfikacją może służyć również do obliczania minimalnej i średniej\n",
    "wartości.\n",
    "- Metoda potegowa jest szybka, w krótkim czasie potrafi dać wynik dla dużych rozmiarów macierzy."
   ]
  },
  {
   "cell_type": "markdown",
   "metadata": {},
   "source": [
    "# Odwrotna metoda potęgowa"
   ]
  },
  {
   "cell_type": "markdown",
   "metadata": {},
   "source": [
    "Opierając się na twierdzeniu o transformacji widma macierzy:\n",
    "\n",
    "**Twierdzenie 1**     Macierz $(A-\\sigma I)^{-1}$ (jeśli istnieje) to ma wartości własne równe $\\frac{1}{\\lambda_{k}-\\sigma}$\n",
    "($\\lambda_{k}$ jest k-tą wartością macierzy A) i wektory własne identyczne z macierzą A.\n",
    "\n",
    "oraz wykorzystując metodę potęgową i faktoryzację LU zaimplementuj odwrotną metodę\n",
    "potęgową pozwalającą na szybkie znalezienie wektorów własnych macierzy A,dla wartości $\\sigma$ bliskich odpowiedniej wartości własnej.Wykorzystaj fakt, że mnożenie wektora $x_i$\n",
    "przez macierz $A^{−1}\n",
    "(x_{i+1} = A^{−1}x_i)$ odpowiada rozwiązaniu układu równań $Ax_{i+1} = x_i$"
   ]
  },
  {
   "cell_type": "markdown",
   "metadata": {},
   "source": [
    "Poniżej prezentuje implementacje odwrotnej metody potęgowej"
   ]
  },
  {
   "cell_type": "code",
   "execution_count": 60,
   "metadata": {},
   "outputs": [],
   "source": [
    "def inverse_power_method(A, sig, iter_count=10000):\n",
    "    E = 10**(-4)\n",
    "    N = len(A)\n",
    "    \n",
    "    x1 = np.random.uniform(size=(N, 1))\n",
    "    \n",
    "    M = A - sig*np.identity(N)\n",
    "    \n",
    "    i = 0\n",
    "    while i < iter_count:\n",
    "        i += 1\n",
    "        \n",
    "        P,L,U = scipy.linalg.lu(M)\n",
    "        \n",
    "        Y = scipy.linalg.solve_triangular(L, np.matmul(P,x1))\n",
    "        x2 = scipy.linalg.solve_triangular(U, Y)\n",
    "        \n",
    "        x2_norm = np.linalg.norm(x2, ord=np.inf)\n",
    "        \n",
    "        norm = x2/x2_norm\n",
    "        if np.linalg.norm(norm-x1) < E:\n",
    "            norm_norm = np.linalg.norm(norm)\n",
    "            return (norm/norm_norm).reshape(N)\n",
    "        x1 = norm\n",
    "        x1_norm = np.linalg.norm(x1)\n",
    "        \n",
    "    return (x1/x1_norm).reshape(N)"
   ]
  },
  {
   "cell_type": "markdown",
   "metadata": {},
   "source": [
    "Następnie zdefinowałem funkcje do sprawdzania poporawności wyników zwracanych przez powyższą implementacje porównujac wyniki z wynikami bibliotecznymi."
   ]
  },
  {
   "cell_type": "code",
   "execution_count": 61,
   "metadata": {},
   "outputs": [],
   "source": [
    "def check_results_inv_power_method(E = 10**(-4)):\n",
    "    Ns = [20,30,40,50,100,120,160,200]\n",
    "    times = []\n",
    "    for N in Ns:\n",
    "        \n",
    "        M = create_matrix(N)\n",
    "        \n",
    "        lib_val, lib_vec = get_eigenvalue_and_eigenvector(M)\n",
    "        \n",
    "        start = time.time()\n",
    "        vec = inverse_power_method(M, lib_val+E)\n",
    "        end = time.time()\n",
    "        \n",
    "        times.append((end-start)*1000)\n",
    "        \n",
    "        if lib_vec[0]*vec[0]<0:\n",
    "            lib_vec =np.multiply(lib_vec, -1)\n",
    "             \n",
    "        print(f\"\"\"for n = {N},\n",
    "        equality of eigenvectors: {np.allclose(vec, lib_vec, rtol=10**(-2))}\n",
    "        \"\"\")\n",
    "        \n",
    "    fig, ax1 = plt.subplots(1, 1, figsize=(12,6))\n",
    "    ax1.set_xlabel(\"N\")\n",
    "    ax1.set_ylabel(\"Time [ms]\")\n",
    "    fig.suptitle(\"Time of inverse power method\")\n",
    "    ax1.plot(Ns, times,'bo')   \n",
    "    plt.show()"
   ]
  },
  {
   "cell_type": "code",
   "execution_count": 62,
   "metadata": {},
   "outputs": [
    {
     "name": "stdout",
     "output_type": "stream",
     "text": [
      "for n = 20,\n",
      "        equality of eigenvectors: True\n",
      "        \n",
      "for n = 30,\n",
      "        equality of eigenvectors: True\n",
      "        \n",
      "for n = 40,\n",
      "        equality of eigenvectors: True\n",
      "        \n",
      "for n = 50,\n",
      "        equality of eigenvectors: True\n",
      "        \n",
      "for n = 100,\n",
      "        equality of eigenvectors: True\n",
      "        \n",
      "for n = 120,\n",
      "        equality of eigenvectors: True\n",
      "        \n",
      "for n = 160,\n",
      "        equality of eigenvectors: True\n",
      "        \n",
      "for n = 200,\n",
      "        equality of eigenvectors: True\n",
      "        \n"
     ]
    },
    {
     "data": {
      "image/png": "[encoded data removed]",
      "text/plain": [
       "<Figure size 864x432 with 1 Axes>"
      ]
     },
     "metadata": {
      "needs_background": "light"
     },
     "output_type": "display_data"
    }
   ],
   "source": [
    "check_results_inv_power_method()"
   ]
  },
  {
   "cell_type": "code",
   "execution_count": 63,
   "metadata": {},
   "outputs": [
    {
     "name": "stdout",
     "output_type": "stream",
     "text": [
      "for n = 20,\n",
      "        equality of eigenvectors: True\n",
      "        \n",
      "for n = 30,\n",
      "        equality of eigenvectors: True\n",
      "        \n",
      "for n = 40,\n",
      "        equality of eigenvectors: True\n",
      "        \n",
      "for n = 50,\n",
      "        equality of eigenvectors: True\n",
      "        \n",
      "for n = 100,\n",
      "        equality of eigenvectors: True\n",
      "        \n",
      "for n = 120,\n",
      "        equality of eigenvectors: True\n",
      "        \n",
      "for n = 160,\n",
      "        equality of eigenvectors: True\n",
      "        \n",
      "for n = 200,\n",
      "        equality of eigenvectors: True\n",
      "        \n"
     ]
    },
    {
     "data": {
      "image/png": "[encoded data removed]",
      "text/plain": [
       "<Figure size 864x432 with 1 Axes>"
      ]
     },
     "metadata": {
      "needs_background": "light"
     },
     "output_type": "display_data"
    }
   ],
   "source": [
    "check_results_inv_power_method(E=10**(-8))"
   ]
  },
  {
   "cell_type": "code",
   "execution_count": 64,
   "metadata": {},
   "outputs": [
    {
     "name": "stdout",
     "output_type": "stream",
     "text": [
      "for n = 20,\n",
      "        equality of eigenvectors: True\n",
      "        \n",
      "for n = 30,\n",
      "        equality of eigenvectors: True\n",
      "        \n",
      "for n = 40,\n",
      "        equality of eigenvectors: True\n",
      "        \n",
      "for n = 50,\n",
      "        equality of eigenvectors: True\n",
      "        \n",
      "for n = 100,\n",
      "        equality of eigenvectors: True\n",
      "        \n",
      "for n = 120,\n",
      "        equality of eigenvectors: True\n",
      "        \n",
      "for n = 160,\n",
      "        equality of eigenvectors: True\n",
      "        \n",
      "for n = 200,\n",
      "        equality of eigenvectors: True\n",
      "        \n"
     ]
    },
    {
     "data": {
      "image/png": "[encoded data removed]",
      "text/plain": [
       "<Figure size 864x432 with 1 Axes>"
      ]
     },
     "metadata": {
      "needs_background": "light"
     },
     "output_type": "display_data"
    }
   ],
   "source": [
    "check_results_inv_power_method(E=10**(-14))"
   ]
  },
  {
   "cell_type": "code",
   "execution_count": 65,
   "metadata": {},
   "outputs": [
    {
     "name": "stdout",
     "output_type": "stream",
     "text": [
      "for n = 20,\n",
      "        equality of eigenvectors: True\n",
      "        \n",
      "for n = 30,\n",
      "        equality of eigenvectors: True\n",
      "        \n",
      "for n = 40,\n",
      "        equality of eigenvectors: True\n",
      "        \n",
      "for n = 50,\n",
      "        equality of eigenvectors: True\n",
      "        \n",
      "for n = 100,\n",
      "        equality of eigenvectors: True\n",
      "        \n",
      "for n = 120,\n",
      "        equality of eigenvectors: True\n",
      "        \n",
      "for n = 160,\n",
      "        equality of eigenvectors: True\n",
      "        \n",
      "for n = 200,\n",
      "        equality of eigenvectors: True\n",
      "        \n"
     ]
    },
    {
     "data": {
      "image/png": "[encoded data removed]",
      "text/plain": [
       "<Figure size 864x432 with 1 Axes>"
      ]
     },
     "metadata": {
      "needs_background": "light"
     },
     "output_type": "display_data"
    }
   ],
   "source": [
    "check_results_inv_power_method(E=10**(-16))"
   ]
  },
  {
   "cell_type": "markdown",
   "metadata": {},
   "source": [
    "## Wnioski:\n",
    "- Czym sigma jest bliższa odpowiedniej wartości własnej tym algorytm jest szybszy\n",
    "- Odwrotna metoda potęgowa pozwala na szybkie znalezienie wektorów własnych macierzy, dla wartości $\\sigma$ bliskich odpowiedniej wartości własnej."
   ]
  }
 ],
 "metadata": {
  "kernelspec": {
   "display_name": "Python 3",
   "language": "python",
   "name": "python3"
  },
  "language_info": {
   "codemirror_mode": {
    "name": "ipython",
    "version": 3
   },
   "file_extension": ".py",
   "mimetype": "text/x-python",
   "name": "python",
   "nbconvert_exporter": "python",
   "pygments_lexer": "ipython3",
   "version": "3.7.4"
  }
 },
 "nbformat": 4,
 "nbformat_minor": 2
}
