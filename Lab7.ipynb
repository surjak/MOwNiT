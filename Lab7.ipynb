{
 "cells": [
  {
   "cell_type": "markdown",
   "metadata": {},
   "source": [
    "# Metody Obliczeniowe w Nauce i Technice\n",
    "## Laboratorium 7\n",
    "### Dekompozycja spektralna\n",
    "#### Mateusz Surjak"
   ]
  },
  {
   "cell_type": "code",
   "execution_count": 238,
   "metadata": {},
   "outputs": [],
   "source": [
    "import scipy.linalg\n",
    "import time\n",
    "import matplotlib.pyplot as plt\n",
    "import numpy as np"
   ]
  },
  {
   "cell_type": "markdown",
   "metadata": {},
   "source": [
    "# Metoda potęgowa\n",
    "\n",
    "Napisz funkcję obliczającą metodą potęgową dominującą wartość własną (największą co\n",
    "do modułu) i odpowiadający jej wektor własny dla danej macierzy rzeczywistej symetrycznej. Sprawdź poprawność działania programu porównując własną implementację\n",
    "z wynikami funkcji bibliotecznej. Przedstaw na wykresie zależność czasu obliczeń od\n",
    "rozmiaru macierzy (rozmiary macierzy 100x100, 500x500, ...).\n"
   ]
  },
  {
   "cell_type": "markdown",
   "metadata": {},
   "source": [
    "Poniżej prezentuje funkcje do generowania symetrycznych macierzy rozmiaru NxN"
   ]
  },
  {
   "cell_type": "code",
   "execution_count": 243,
   "metadata": {},
   "outputs": [],
   "source": [
    "def create_matrix(N):\n",
    "    a = np.random.rand(N, N)\n",
    "    return  np.tril(a) + np.tril(a, -1).T"
   ]
  },
  {
   "cell_type": "markdown",
   "metadata": {},
   "source": [
    "Zdefiniowałem metodę odbliczącą  dominującą wartośc własną i odpowiadający jej wektor własny zgodnie z treścią zadania.\n",
    "Na końcu znormaliozowałem otrzymany wektor własny."
   ]
  },
  {
   "cell_type": "code",
   "execution_count": 244,
   "metadata": {},
   "outputs": [],
   "source": [
    "def power_method(matrix, iter_count=10000, E=10**(-10)):\n",
    "    N = len(matrix)\n",
    "    \n",
    "    x1 = np.random.uniform(size=(N, 1))\n",
    "    i = 0\n",
    "    while i<iter_count:\n",
    "        i+=1\n",
    "        \n",
    "        x2 = np.matmul(matrix,x1)\n",
    "        \n",
    "        norm = x2/np.linalg.norm(x2, ord=np.inf)\n",
    "        \n",
    "        if np.linalg.norm(norm-x1) < E:\n",
    "            \n",
    "            x1 = norm\n",
    "            return (np.linalg.norm(x2, np.inf), (x1/np.linalg.norm(x1)).reshape(N))\n",
    "        \n",
    "        x1 = norm\n",
    "    return (np.linalg.norm(x2, np.inf), (x1/np.linalg.norm(x1)).reshape(N))"
   ]
  },
  {
   "cell_type": "markdown",
   "metadata": {},
   "source": [
    "Następnie zdefiniowałem funkcje która zwraca dominującą wartość własną (największą co do modułu) oraz odpowiadający tej wartości wektor własny korzystając z biblioteki scipy."
   ]
  },
  {
   "cell_type": "code",
   "execution_count": 245,
   "metadata": {},
   "outputs": [],
   "source": [
    "def get_eigenvalue_and_eigenvector(M):\n",
    "    values, vectors = scipy.linalg.eigh(M)\n",
    "    if abs(values[0]) > abs(values[-1]):\n",
    "        return abs(values[0]), vectors[:,0]/np.linalg.norm(vectors[:,0])\n",
    "    else:\n",
    "        return abs(values[-1]), vectors[:,-1]/np.linalg.norm(vectors[:,-1])"
   ]
  },
  {
   "cell_type": "markdown",
   "metadata": {},
   "source": [
    "Poniżej znajduje się funckcja która porównuje wyniki z wynikami bibliotecznymi oraz\n",
    "rysuje wykres zależności czasu od rozmiaru macierzy."
   ]
  },
  {
   "cell_type": "code",
   "execution_count": 246,
   "metadata": {},
   "outputs": [],
   "source": [
    "def check_results_and_draw_time_plot():\n",
    "    E=10**(-6)\n",
    "    Ns = [i for i in range(100,2100,100)]\n",
    "    times = []\n",
    "    \n",
    "    for n in Ns:\n",
    "        \n",
    "        M = create_matrix(n)\n",
    "        \n",
    "        start = time.time()\n",
    "        val, vec = power_method(M)\n",
    "        end = time.time()\n",
    "        \n",
    "        times.append((end-start)*1000)\n",
    "\n",
    "        lib_val, lib_vec = get_eigenvalue_and_eigenvector(M)\n",
    "\n",
    "        if lib_vec[0]*vec[0]<0:\n",
    "            lib_vec *= -1\n",
    "        \n",
    "        print(f\"\"\"\\tfor n = {n}\n",
    "              eivenvalues = {val}, {lib_val},\n",
    "              equality of eigenvalues: {abs(lib_val-val)<E},\n",
    "              eguality of eigenvectors: {np.allclose(vec, lib_vec, rtol=E)}\n",
    "              \"\"\")\n",
    "    \n",
    "    fig, ax1 = plt.subplots(1, 1, figsize=(12,6))\n",
    "    ax1.set_xlabel(\"N\")\n",
    "    ax1.set_ylabel(\"Time [ms]\")\n",
    "    fig.suptitle(\"Time of power method\")\n",
    "    ax1.plot(Ns, times,'bo')   \n",
    "    plt.show()"
   ]
  },
  {
   "cell_type": "code",
   "execution_count": 247,
   "metadata": {},
   "outputs": [
    {
     "name": "stdout",
     "output_type": "stream",
     "text": [
      "\tfor n = 100\n",
      "              eivenvalues = 50.88138030568888, 50.8813803056658,\n",
      "              equality of eigenvalues: True,\n",
      "              eguality of eigenvectors: True\n",
      "              \n",
      "\tfor n = 200\n",
      "              eivenvalues = 99.35913327569892, 99.35913327566566,\n",
      "              equality of eigenvalues: True,\n",
      "              eguality of eigenvectors: True\n",
      "              \n",
      "\tfor n = 300\n",
      "              eivenvalues = 149.85735438429703, 149.85735438460128,\n",
      "              equality of eigenvalues: True,\n",
      "              eguality of eigenvectors: True\n",
      "              \n",
      "\tfor n = 400\n",
      "              eivenvalues = 199.98368651091948, 199.98368651089956,\n",
      "              equality of eigenvalues: True,\n",
      "              eguality of eigenvectors: True\n",
      "              \n",
      "\tfor n = 500\n",
      "              eivenvalues = 249.9384074977134, 249.93840749772608,\n",
      "              equality of eigenvalues: True,\n",
      "              eguality of eigenvectors: True\n",
      "              \n",
      "\tfor n = 600\n",
      "              eivenvalues = 299.5220570286424, 299.52205702790434,\n",
      "              equality of eigenvalues: True,\n",
      "              eguality of eigenvectors: True\n",
      "              \n",
      "\tfor n = 700\n",
      "              eivenvalues = 350.30531229993767, 350.30531230036337,\n",
      "              equality of eigenvalues: True,\n",
      "              eguality of eigenvectors: True\n",
      "              \n",
      "\tfor n = 800\n",
      "              eivenvalues = 400.25125246467417, 400.25125246427734,\n",
      "              equality of eigenvalues: True,\n",
      "              eguality of eigenvectors: True\n",
      "              \n",
      "\tfor n = 900\n",
      "              eivenvalues = 450.2917267359439, 450.2917267362628,\n",
      "              equality of eigenvalues: True,\n",
      "              eguality of eigenvectors: True\n",
      "              \n",
      "\tfor n = 1000\n",
      "              eivenvalues = 500.7070702728877, 500.70707027298755,\n",
      "              equality of eigenvalues: True,\n",
      "              eguality of eigenvectors: True\n",
      "              \n",
      "\tfor n = 1100\n",
      "              eivenvalues = 549.8801691642658, 549.8801691642357,\n",
      "              equality of eigenvalues: True,\n",
      "              eguality of eigenvectors: True\n",
      "              \n",
      "\tfor n = 1200\n",
      "              eivenvalues = 600.1255054493822, 600.1255054493643,\n",
      "              equality of eigenvalues: True,\n",
      "              eguality of eigenvectors: True\n",
      "              \n",
      "\tfor n = 1300\n",
      "              eivenvalues = 649.9633960461501, 649.9633960461043,\n",
      "              equality of eigenvalues: True,\n",
      "              eguality of eigenvectors: True\n",
      "              \n",
      "\tfor n = 1400\n",
      "              eivenvalues = 699.7827830323445, 699.7827830315957,\n",
      "              equality of eigenvalues: True,\n",
      "              eguality of eigenvectors: True\n",
      "              \n",
      "\tfor n = 1500\n",
      "              eivenvalues = 750.1826705460047, 750.1826705466266,\n",
      "              equality of eigenvalues: True,\n",
      "              eguality of eigenvectors: True\n",
      "              \n",
      "\tfor n = 1600\n",
      "              eivenvalues = 800.9024116743344, 800.902411673983,\n",
      "              equality of eigenvalues: True,\n",
      "              eguality of eigenvectors: True\n",
      "              \n",
      "\tfor n = 1700\n",
      "              eivenvalues = 850.9055663295279, 850.9055663284171,\n",
      "              equality of eigenvalues: True,\n",
      "              eguality of eigenvectors: True\n",
      "              \n",
      "\tfor n = 1800\n",
      "              eivenvalues = 899.3580642107802, 899.3580642096282,\n",
      "              equality of eigenvalues: True,\n",
      "              eguality of eigenvectors: True\n",
      "              \n",
      "\tfor n = 1900\n",
      "              eivenvalues = 949.8626179213177, 949.8626179218326,\n",
      "              equality of eigenvalues: True,\n",
      "              eguality of eigenvectors: True\n",
      "              \n",
      "\tfor n = 2000\n",
      "              eivenvalues = 1000.1059073615623, 1000.1059073617469,\n",
      "              equality of eigenvalues: True,\n",
      "              eguality of eigenvectors: True\n",
      "              \n"
     ]
    },
    {
     "data": {
      "image/png": "[encoded data removed]",
      "text/plain": [
       "<Figure size 864x432 with 1 Axes>"
      ]
     },
     "metadata": {
      "needs_background": "light"
     },
     "output_type": "display_data"
    }
   ],
   "source": [
    "iterations_power_method = check_results_and_draw_time_plot()"
   ]
  },
  {
   "cell_type": "markdown",
   "metadata": {},
   "source": [
    "## Wnioski:\n",
    "- Metoda potęgowa jest stosowana do wyznaczenia maksymalnej wartości\n",
    "własnej, z małą modyfikacją może służyć również do obliczania minimalnej i średniej\n",
    "wartości.\n",
    "- Metoda potegowa jest szybka, w krótkim czasie potrafi dać wynik dla dużych rozmiarów macierzy."
   ]
  },
  {
   "cell_type": "markdown",
   "metadata": {},
   "source": [
    "# Odwrotna metoda potęgowa"
   ]
  },
  {
   "cell_type": "markdown",
   "metadata": {},
   "source": [
    "Opierając się na twierdzeniu o transformacji widma macierzy:\n",
    "\n",
    "**Twierdzenie 1**     Macierz $(A-\\sigma I)^{-1}$ (jeśli istnieje) to ma wartości własne równe $\\frac{1}{\\lambda_{k}-\\sigma}$\n",
    "($\\lambda_{k}$ jest k-tą wartością macierzy A) i wektory własne identyczne z macierzą A.\n",
    "\n",
    "oraz wykorzystując metodę potęgową i faktoryzację LU zaimplementuj odwrotną metodę\n",
    "potęgową pozwalającą na szybkie znalezienie wektorów własnych macierzy A,dla wartości $\\sigma$ bliskich odpowiedniej wartości własnej.Wykorzystaj fakt, że mnożenie wektora $x_i$\n",
    "przez macierz $A^{−1}\n",
    "(x_{i+1} = A^{−1}x_i)$ odpowiada rozwiązaniu układu równań $Ax_{i+1} = x_i$"
   ]
  },
  {
   "cell_type": "markdown",
   "metadata": {},
   "source": [
    "Poniżej prezentuje implementacje odwrotnej metody potęgowej"
   ]
  },
  {
   "cell_type": "code",
   "execution_count": 248,
   "metadata": {},
   "outputs": [],
   "source": [
    "def inverse_power_method(A, sig, iter_count=10000):\n",
    "    E = 10**(-4)\n",
    "    N = len(A)\n",
    "    \n",
    "    x1 = np.random.uniform(size=(N, 1))\n",
    "    \n",
    "    M = A - sig*np.identity(N)\n",
    "    \n",
    "    i = 0\n",
    "    while i < iter_count:\n",
    "        i += 1\n",
    "        \n",
    "        P,L,U = scipy.linalg.lu(M)\n",
    "        \n",
    "        Y = scipy.linalg.solve_triangular(L, np.matmul(P,x1))\n",
    "        x2 = scipy.linalg.solve_triangular(U, Y)\n",
    "        \n",
    "        norm = x2/np.linalg.norm(x2, ord=np.inf)\n",
    "        if np.linalg.norm(norm-x1) < E:\n",
    "            return (norm/np.linalg.norm(norm)).reshape(N)\n",
    "        x1 = norm\n",
    "        \n",
    "    return (x1/np.linalg.norm(x1)).reshape(N)"
   ]
  },
  {
   "cell_type": "markdown",
   "metadata": {},
   "source": [
    "Następnie zdefinowałem funkcje do sprawdzania poporawności wyników zwracanych przez powyższą implementacje porównujac wyniki z wynikami bibliotecznymi."
   ]
  },
  {
   "cell_type": "code",
   "execution_count": 249,
   "metadata": {},
   "outputs": [],
   "source": [
    "def check_results_inv_power_method(E = 10**(-4)):\n",
    "    Ns = [20,30,40,50,100,120,160,200]\n",
    "    times = []\n",
    "    for N in Ns:\n",
    "        \n",
    "        M = create_matrix(N)\n",
    "        \n",
    "        lib_val, lib_vec = get_eigenvalue_and_eigenvector(M)\n",
    "        \n",
    "        start = time.time()\n",
    "        vec = inverse_power_method(M, lib_val+E)\n",
    "        end = time.time()\n",
    "        \n",
    "        times.append((end-start)*1000)\n",
    "        \n",
    "        if lib_vec[0]*vec[0]<0:\n",
    "            lib_vec *= -1\n",
    "             \n",
    "        print(f\"\"\"for n = {N},\n",
    "        equality of eigenvectors: {np.allclose(vec, lib_vec, rtol=10**(-2))}\n",
    "        \"\"\")\n",
    "        \n",
    "    fig, ax1 = plt.subplots(1, 1, figsize=(12,6))\n",
    "    ax1.set_xlabel(\"N\")\n",
    "    ax1.set_ylabel(\"Time [ms]\")\n",
    "    fig.suptitle(\"Time of inverse power method\")\n",
    "    ax1.plot(Ns, times,'bo')   \n",
    "    plt.show()"
   ]
  },
  {
   "cell_type": "code",
   "execution_count": 250,
   "metadata": {},
   "outputs": [
    {
     "name": "stdout",
     "output_type": "stream",
     "text": [
      "for n = 20,\n",
      "        equality of eigenvectors: True\n",
      "        \n",
      "for n = 30,\n",
      "        equality of eigenvectors: True\n",
      "        \n",
      "for n = 40,\n",
      "        equality of eigenvectors: True\n",
      "        \n",
      "for n = 50,\n",
      "        equality of eigenvectors: True\n",
      "        \n",
      "for n = 100,\n",
      "        equality of eigenvectors: True\n",
      "        \n",
      "for n = 120,\n",
      "        equality of eigenvectors: True\n",
      "        \n",
      "for n = 160,\n",
      "        equality of eigenvectors: True\n",
      "        \n",
      "for n = 200,\n",
      "        equality of eigenvectors: True\n",
      "        \n"
     ]
    },
    {
     "data": {
      "image/png": "[encoded data removed]",
      "text/plain": [
       "<Figure size 864x432 with 1 Axes>"
      ]
     },
     "metadata": {
      "needs_background": "light"
     },
     "output_type": "display_data"
    }
   ],
   "source": [
    "check_results_inv_power_method()"
   ]
  },
  {
   "cell_type": "code",
   "execution_count": 251,
   "metadata": {},
   "outputs": [
    {
     "name": "stdout",
     "output_type": "stream",
     "text": [
      "for n = 20,\n",
      "        equality of eigenvectors: True\n",
      "        \n",
      "for n = 30,\n",
      "        equality of eigenvectors: True\n",
      "        \n",
      "for n = 40,\n",
      "        equality of eigenvectors: True\n",
      "        \n",
      "for n = 50,\n",
      "        equality of eigenvectors: True\n",
      "        \n",
      "for n = 100,\n",
      "        equality of eigenvectors: True\n",
      "        \n",
      "for n = 120,\n",
      "        equality of eigenvectors: True\n",
      "        \n",
      "for n = 160,\n",
      "        equality of eigenvectors: True\n",
      "        \n",
      "for n = 200,\n",
      "        equality of eigenvectors: True\n",
      "        \n"
     ]
    },
    {
     "data": {
      "image/png": "[encoded data removed]",
      "text/plain": [
       "<Figure size 864x432 with 1 Axes>"
      ]
     },
     "metadata": {
      "needs_background": "light"
     },
     "output_type": "display_data"
    }
   ],
   "source": [
    "check_results_inv_power_method(E=10**(-8))"
   ]
  },
  {
   "cell_type": "code",
   "execution_count": 252,
   "metadata": {},
   "outputs": [
    {
     "name": "stdout",
     "output_type": "stream",
     "text": [
      "for n = 20,\n",
      "        equality of eigenvectors: True\n",
      "        \n",
      "for n = 30,\n",
      "        equality of eigenvectors: True\n",
      "        \n",
      "for n = 40,\n",
      "        equality of eigenvectors: True\n",
      "        \n",
      "for n = 50,\n",
      "        equality of eigenvectors: True\n",
      "        \n",
      "for n = 100,\n",
      "        equality of eigenvectors: True\n",
      "        \n",
      "for n = 120,\n",
      "        equality of eigenvectors: True\n",
      "        \n",
      "for n = 160,\n",
      "        equality of eigenvectors: True\n",
      "        \n",
      "for n = 200,\n",
      "        equality of eigenvectors: True\n",
      "        \n"
     ]
    },
    {
     "data": {
      "image/png": "[encoded data removed]",
      "text/plain": [
       "<Figure size 864x432 with 1 Axes>"
      ]
     },
     "metadata": {
      "needs_background": "light"
     },
     "output_type": "display_data"
    }
   ],
   "source": [
    "check_results_inv_power_method(E=10**(-14))"
   ]
  },
  {
   "cell_type": "code",
   "execution_count": 253,
   "metadata": {},
   "outputs": [
    {
     "name": "stdout",
     "output_type": "stream",
     "text": [
      "for n = 20,\n",
      "        equality of eigenvectors: True\n",
      "        \n",
      "for n = 30,\n",
      "        equality of eigenvectors: True\n",
      "        \n",
      "for n = 40,\n",
      "        equality of eigenvectors: True\n",
      "        \n",
      "for n = 50,\n",
      "        equality of eigenvectors: True\n",
      "        \n",
      "for n = 100,\n",
      "        equality of eigenvectors: True\n",
      "        \n",
      "for n = 120,\n",
      "        equality of eigenvectors: True\n",
      "        \n",
      "for n = 160,\n",
      "        equality of eigenvectors: True\n",
      "        \n",
      "for n = 200,\n",
      "        equality of eigenvectors: True\n",
      "        \n"
     ]
    },
    {
     "data": {
      "image/png": "[encoded data removed]",
      "text/plain": [
       "<Figure size 864x432 with 1 Axes>"
      ]
     },
     "metadata": {
      "needs_background": "light"
     },
     "output_type": "display_data"
    }
   ],
   "source": [
    "check_results_inv_power_method(E=10**(-16))"
   ]
  },
  {
   "cell_type": "markdown",
   "metadata": {},
   "source": [
    "## Wnioski:\n",
    "- Czym sigma jest bliższa odpowiedniej wartości własnej tym algorytm jest szybszy\n",
    "- Odwrotna metoda potęgowa pozwala na szybkie znalezienie wektorów własnych macierzy, dla wartości $\\sigma$ bliskich odpowiedniej wartości własnej."
   ]
  }
 ],
 "metadata": {
  "kernelspec": {
   "display_name": "Python 3",
   "language": "python",
   "name": "python3"
  },
  "language_info": {
   "codemirror_mode": {
    "name": "ipython",
    "version": 3
   },
   "file_extension": ".py",
   "mimetype": "text/x-python",
   "name": "python",
   "nbconvert_exporter": "python",
   "pygments_lexer": "ipython3",
   "version": "3.7.4"
  }
 },
 "nbformat": 4,
 "nbformat_minor": 2
}
