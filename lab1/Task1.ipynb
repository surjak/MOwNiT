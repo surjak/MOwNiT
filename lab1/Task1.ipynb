{
 "cells": [
  {
   "cell_type": "code",
   "execution_count": 18,
   "metadata": {},
   "outputs": [],
   "source": [
    "# Sumowanie liczb pojedynczej precyzji\n",
    "import numpy as np\n",
    "from matplotlib import pyplot as plt\n",
    "import time"
   ]
  },
  {
   "cell_type": "code",
   "execution_count": 19,
   "metadata": {},
   "outputs": [],
   "source": [
    "# CONSTANTS, you can modify the x value\n",
    "x = np.float32(0.53125)\n",
    "NUMBERS = [x] * 10 ** 7\n",
    "EXPECTED_VALUE = x * 10 ** 7"
   ]
  },
  {
   "cell_type": "code",
   "execution_count": 20,
   "metadata": {},
   "outputs": [],
   "source": [
    "def relative_error(x, dx):\n",
    "    return abs((x - dx)) / x\n",
    "\n",
    "\n",
    "def absolute_error(x, dx):\n",
    "    return abs(x - dx)"
   ]
  },
  {
   "cell_type": "code",
   "execution_count": 21,
   "metadata": {},
   "outputs": [],
   "source": [
    "def sum_normal(array):\n",
    "    counter = np.float32(0)\n",
    "    for i in array:\n",
    "        counter += i\n",
    "    return counter\n",
    "\n",
    "\n",
    "def sum_tree(array):\n",
    "    if (len(array) == 1):\n",
    "        return array[0]\n",
    "\n",
    "    len_ = int(len(array) / 2)\n",
    "    return sum_tree(array[0:len_]) + sum_tree(array[len_:])"
   ]
  },
  {
   "cell_type": "code",
   "execution_count": 22,
   "metadata": {},
   "outputs": [],
   "source": [
    "# Display plot function\n",
    "def draw_relative_error_plot(numbers):\n",
    "    counter = np.float32(0)\n",
    "    array = []\n",
    "    for (j, i) in enumerate(numbers):\n",
    "        counter = counter + i\n",
    "        if j % 25000 == 0 and j != 0:\n",
    "            array.append(relative_error(j * x, counter))\n",
    "    plt.plot(array)\n",
    "    plt.show()"
   ]
  },
  {
   "cell_type": "code",
   "execution_count": 23,
   "metadata": {},
   "outputs": [],
   "source": [
    "def print_errors():\n",
    "    tree_sum = sum_tree(NUMBERS)\n",
    "\n",
    "    rel_err_tree = relative_error(EXPECTED_VALUE, tree_sum)\n",
    "    abs_err_tree = absolute_error(EXPECTED_VALUE, tree_sum)\n",
    "    print(\"Tree sum: \")\n",
    "    print(abs_err_tree)\n",
    "    print(rel_err_tree)\n",
    "    print(\"--------------\")\n",
    "    normal_sum = sum_normal(NUMBERS)\n",
    "    rel_err_normal = relative_error(EXPECTED_VALUE, normal_sum)\n",
    "    abs_err_normal = absolute_error(EXPECTED_VALUE, normal_sum)\n",
    "    print(\"Normal sum: \")\n",
    "    print(rel_err_normal)\n",
    "    print(abs_err_normal)"
   ]
  },
  {
   "cell_type": "code",
   "execution_count": 24,
   "metadata": {},
   "outputs": [],
   "source": [
    "def compare_time():\n",
    "    start = time.time() * 1000\n",
    "    sum_normal(NUMBERS)\n",
    "    end = time.time() * 1000\n",
    "    normal_time = (end - start).__round__(2)\n",
    "    print(f\"Time for normal sum: {normal_time} milliseconds\")\n",
    "    start = time.time() * 1000\n",
    "    sum_tree(NUMBERS)\n",
    "    end = time.time() * 1000\n",
    "    tree_time = (end - start).__round__(2)\n",
    "    print(f\"Time for tree sum: {tree_time} milliseconds\")\n"
   ]
  },
  {
   "cell_type": "code",
   "execution_count": 25,
   "metadata": {},
   "outputs": [
    {
     "name": "stdout",
     "output_type": "stream",
     "text": [
      "Tree sum: \n",
      "0.0\n",
      "0.0\n",
      "--------------\n",
      "Normal sum: \n",
      "0.05301825882352941\n",
      "281659.5\n"
     ]
    }
   ],
   "source": [
    "print_errors()"
   ]
  },
  {
   "cell_type": "code",
   "execution_count": 26,
   "metadata": {},
   "outputs": [
    {
     "data": {
      "image/png": "[encoded data removed]",
      "text/plain": [
       "<Figure size 432x288 with 1 Axes>"
      ]
     },
     "metadata": {
      "needs_background": "light"
     },
     "output_type": "display_data"
    }
   ],
   "source": [
    "draw_relative_error_plot(NUMBERS)"
   ]
  },
  {
   "cell_type": "code",
   "execution_count": 27,
   "metadata": {},
   "outputs": [
    {
     "name": "stdout",
     "output_type": "stream",
     "text": [
      "Time for normal sum: 702.0 milliseconds\n",
      "Time for tree sum: 7598.0 milliseconds\n"
     ]
    }
   ],
   "source": [
    "compare_time()"
   ]
  },
  {
   "cell_type": "code",
   "execution_count": null,
   "metadata": {},
   "outputs": [],
   "source": []
  }
 ],
 "metadata": {
  "kernelspec": {
   "display_name": "Python 3",
   "language": "python",
   "name": "python3"
  },
  "language_info": {
   "codemirror_mode": {
    "name": "ipython",
    "version": 3
   },
   "file_extension": ".py",
   "mimetype": "text/x-python",
   "name": "python",
   "nbconvert_exporter": "python",
   "pygments_lexer": "ipython3",
   "version": "3.7.4"
  }
 },
 "nbformat": 4,
 "nbformat_minor": 2
}
